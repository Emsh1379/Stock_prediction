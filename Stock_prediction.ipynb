{
  "nbformat": 4,
  "nbformat_minor": 0,
  "metadata": {
    "colab": {
      "provenance": [],
      "include_colab_link": true
    },
    "kernelspec": {
      "name": "python3",
      "display_name": "Python 3"
    },
    "language_info": {
      "name": "python"
    }
  },
  "cells": [
    {
      "cell_type": "markdown",
      "metadata": {
        "id": "view-in-github",
        "colab_type": "text"
      },
      "source": [
        "<a href=\"https://colab.research.google.com/github/Emsh1379/Stock_prediction/blob/main/Stock_prediction.ipynb\" target=\"_parent\"><img src=\"https://colab.research.google.com/assets/colab-badge.svg\" alt=\"Open In Colab\"/></a>"
      ]
    },
    {
      "cell_type": "code",
      "source": [
        "!pip install yfinance"
      ],
      "metadata": {
        "colab": {
          "base_uri": "https://localhost:8080/"
        },
        "id": "B-nMoByeqG2O",
        "outputId": "ba32a912-c434-46d9-96ee-48cf4698b32c"
      },
      "execution_count": 36,
      "outputs": [
        {
          "output_type": "stream",
          "name": "stdout",
          "text": [
            "Requirement already satisfied: yfinance in /usr/local/lib/python3.10/dist-packages (0.2.31)\n",
            "Requirement already satisfied: pandas>=1.3.0 in /usr/local/lib/python3.10/dist-packages (from yfinance) (1.5.3)\n",
            "Requirement already satisfied: numpy>=1.16.5 in /usr/local/lib/python3.10/dist-packages (from yfinance) (1.23.5)\n",
            "Requirement already satisfied: requests>=2.31 in /usr/local/lib/python3.10/dist-packages (from yfinance) (2.31.0)\n",
            "Requirement already satisfied: multitasking>=0.0.7 in /usr/local/lib/python3.10/dist-packages (from yfinance) (0.0.11)\n",
            "Requirement already satisfied: lxml>=4.9.1 in /usr/local/lib/python3.10/dist-packages (from yfinance) (4.9.3)\n",
            "Requirement already satisfied: appdirs>=1.4.4 in /usr/local/lib/python3.10/dist-packages (from yfinance) (1.4.4)\n",
            "Requirement already satisfied: pytz>=2022.5 in /usr/local/lib/python3.10/dist-packages (from yfinance) (2023.3.post1)\n",
            "Requirement already satisfied: frozendict>=2.3.4 in /usr/local/lib/python3.10/dist-packages (from yfinance) (2.3.8)\n",
            "Requirement already satisfied: peewee>=3.16.2 in /usr/local/lib/python3.10/dist-packages (from yfinance) (3.17.0)\n",
            "Requirement already satisfied: beautifulsoup4>=4.11.1 in /usr/local/lib/python3.10/dist-packages (from yfinance) (4.11.2)\n",
            "Requirement already satisfied: html5lib>=1.1 in /usr/local/lib/python3.10/dist-packages (from yfinance) (1.1)\n",
            "Requirement already satisfied: soupsieve>1.2 in /usr/local/lib/python3.10/dist-packages (from beautifulsoup4>=4.11.1->yfinance) (2.5)\n",
            "Requirement already satisfied: six>=1.9 in /usr/local/lib/python3.10/dist-packages (from html5lib>=1.1->yfinance) (1.16.0)\n",
            "Requirement already satisfied: webencodings in /usr/local/lib/python3.10/dist-packages (from html5lib>=1.1->yfinance) (0.5.1)\n",
            "Requirement already satisfied: python-dateutil>=2.8.1 in /usr/local/lib/python3.10/dist-packages (from pandas>=1.3.0->yfinance) (2.8.2)\n",
            "Requirement already satisfied: charset-normalizer<4,>=2 in /usr/local/lib/python3.10/dist-packages (from requests>=2.31->yfinance) (3.3.2)\n",
            "Requirement already satisfied: idna<4,>=2.5 in /usr/local/lib/python3.10/dist-packages (from requests>=2.31->yfinance) (3.4)\n",
            "Requirement already satisfied: urllib3<3,>=1.21.1 in /usr/local/lib/python3.10/dist-packages (from requests>=2.31->yfinance) (2.0.7)\n",
            "Requirement already satisfied: certifi>=2017.4.17 in /usr/local/lib/python3.10/dist-packages (from requests>=2.31->yfinance) (2023.7.22)\n"
          ]
        }
      ]
    },
    {
      "cell_type": "code",
      "execution_count": 37,
      "metadata": {
        "id": "Kh4ysm90yaJO"
      },
      "outputs": [],
      "source": [
        "import tensorflow as tf\n",
        "import numpy as np\n",
        "import pandas as pd\n",
        "import matplotlib.pyplot as plt\n",
        "from sklearn.preprocessing import MinMaxScaler"
      ]
    },
    {
      "cell_type": "code",
      "source": [
        "import yfinance as yf"
      ],
      "metadata": {
        "id": "uP7TvLR-qUgN"
      },
      "execution_count": 38,
      "outputs": []
    },
    {
      "cell_type": "code",
      "source": [
        "ms = yf.download(\"GOOG\",\n",
        "            start = \"2012-01-01\",\n",
        "            end =\"2021-12-31\",\n",
        "            progress = False )\n",
        "df = ms[[\"Adj Close\",\"Open\",\"Close\",\"High\",\"Low\"]].round(3)\n",
        "df['Date']= df.index\n",
        "df.head()"
      ],
      "metadata": {
        "colab": {
          "base_uri": "https://localhost:8080/",
          "height": 237
        },
        "id": "s4-ehzIIqbkl",
        "outputId": "99518e16-fc9e-4da3-fe20-ed3fe13b5121"
      },
      "execution_count": 39,
      "outputs": [
        {
          "output_type": "execute_result",
          "data": {
            "text/plain": [
              "            Adj Close    Open   Close    High     Low       Date\n",
              "Date                                                            \n",
              "2012-01-03     16.573  16.263  16.573  16.641  16.248 2012-01-03\n",
              "2012-01-04     16.645  16.564  16.645  16.694  16.454 2012-01-04\n",
              "2012-01-05     16.414  16.491  16.414  16.537  16.344 2012-01-05\n",
              "2012-01-06     16.190  16.417  16.190  16.438  16.184 2012-01-06\n",
              "2012-01-09     15.503  16.102  15.503  16.115  15.473 2012-01-09"
            ],
            "text/html": [
              "\n",
              "  <div id=\"df-92488bcc-26c3-4cb0-8a52-9df34a4d701c\" class=\"colab-df-container\">\n",
              "    <div>\n",
              "<style scoped>\n",
              "    .dataframe tbody tr th:only-of-type {\n",
              "        vertical-align: middle;\n",
              "    }\n",
              "\n",
              "    .dataframe tbody tr th {\n",
              "        vertical-align: top;\n",
              "    }\n",
              "\n",
              "    .dataframe thead th {\n",
              "        text-align: right;\n",
              "    }\n",
              "</style>\n",
              "<table border=\"1\" class=\"dataframe\">\n",
              "  <thead>\n",
              "    <tr style=\"text-align: right;\">\n",
              "      <th></th>\n",
              "      <th>Adj Close</th>\n",
              "      <th>Open</th>\n",
              "      <th>Close</th>\n",
              "      <th>High</th>\n",
              "      <th>Low</th>\n",
              "      <th>Date</th>\n",
              "    </tr>\n",
              "    <tr>\n",
              "      <th>Date</th>\n",
              "      <th></th>\n",
              "      <th></th>\n",
              "      <th></th>\n",
              "      <th></th>\n",
              "      <th></th>\n",
              "      <th></th>\n",
              "    </tr>\n",
              "  </thead>\n",
              "  <tbody>\n",
              "    <tr>\n",
              "      <th>2012-01-03</th>\n",
              "      <td>16.573</td>\n",
              "      <td>16.263</td>\n",
              "      <td>16.573</td>\n",
              "      <td>16.641</td>\n",
              "      <td>16.248</td>\n",
              "      <td>2012-01-03</td>\n",
              "    </tr>\n",
              "    <tr>\n",
              "      <th>2012-01-04</th>\n",
              "      <td>16.645</td>\n",
              "      <td>16.564</td>\n",
              "      <td>16.645</td>\n",
              "      <td>16.694</td>\n",
              "      <td>16.454</td>\n",
              "      <td>2012-01-04</td>\n",
              "    </tr>\n",
              "    <tr>\n",
              "      <th>2012-01-05</th>\n",
              "      <td>16.414</td>\n",
              "      <td>16.491</td>\n",
              "      <td>16.414</td>\n",
              "      <td>16.537</td>\n",
              "      <td>16.344</td>\n",
              "      <td>2012-01-05</td>\n",
              "    </tr>\n",
              "    <tr>\n",
              "      <th>2012-01-06</th>\n",
              "      <td>16.190</td>\n",
              "      <td>16.417</td>\n",
              "      <td>16.190</td>\n",
              "      <td>16.438</td>\n",
              "      <td>16.184</td>\n",
              "      <td>2012-01-06</td>\n",
              "    </tr>\n",
              "    <tr>\n",
              "      <th>2012-01-09</th>\n",
              "      <td>15.503</td>\n",
              "      <td>16.102</td>\n",
              "      <td>15.503</td>\n",
              "      <td>16.115</td>\n",
              "      <td>15.473</td>\n",
              "      <td>2012-01-09</td>\n",
              "    </tr>\n",
              "  </tbody>\n",
              "</table>\n",
              "</div>\n",
              "    <div class=\"colab-df-buttons\">\n",
              "\n",
              "  <div class=\"colab-df-container\">\n",
              "    <button class=\"colab-df-convert\" onclick=\"convertToInteractive('df-92488bcc-26c3-4cb0-8a52-9df34a4d701c')\"\n",
              "            title=\"Convert this dataframe to an interactive table.\"\n",
              "            style=\"display:none;\">\n",
              "\n",
              "  <svg xmlns=\"http://www.w3.org/2000/svg\" height=\"24px\" viewBox=\"0 -960 960 960\">\n",
              "    <path d=\"M120-120v-720h720v720H120Zm60-500h600v-160H180v160Zm220 220h160v-160H400v160Zm0 220h160v-160H400v160ZM180-400h160v-160H180v160Zm440 0h160v-160H620v160ZM180-180h160v-160H180v160Zm440 0h160v-160H620v160Z\"/>\n",
              "  </svg>\n",
              "    </button>\n",
              "\n",
              "  <style>\n",
              "    .colab-df-container {\n",
              "      display:flex;\n",
              "      gap: 12px;\n",
              "    }\n",
              "\n",
              "    .colab-df-convert {\n",
              "      background-color: #E8F0FE;\n",
              "      border: none;\n",
              "      border-radius: 50%;\n",
              "      cursor: pointer;\n",
              "      display: none;\n",
              "      fill: #1967D2;\n",
              "      height: 32px;\n",
              "      padding: 0 0 0 0;\n",
              "      width: 32px;\n",
              "    }\n",
              "\n",
              "    .colab-df-convert:hover {\n",
              "      background-color: #E2EBFA;\n",
              "      box-shadow: 0px 1px 2px rgba(60, 64, 67, 0.3), 0px 1px 3px 1px rgba(60, 64, 67, 0.15);\n",
              "      fill: #174EA6;\n",
              "    }\n",
              "\n",
              "    .colab-df-buttons div {\n",
              "      margin-bottom: 4px;\n",
              "    }\n",
              "\n",
              "    [theme=dark] .colab-df-convert {\n",
              "      background-color: #3B4455;\n",
              "      fill: #D2E3FC;\n",
              "    }\n",
              "\n",
              "    [theme=dark] .colab-df-convert:hover {\n",
              "      background-color: #434B5C;\n",
              "      box-shadow: 0px 1px 3px 1px rgba(0, 0, 0, 0.15);\n",
              "      filter: drop-shadow(0px 1px 2px rgba(0, 0, 0, 0.3));\n",
              "      fill: #FFFFFF;\n",
              "    }\n",
              "  </style>\n",
              "\n",
              "    <script>\n",
              "      const buttonEl =\n",
              "        document.querySelector('#df-92488bcc-26c3-4cb0-8a52-9df34a4d701c button.colab-df-convert');\n",
              "      buttonEl.style.display =\n",
              "        google.colab.kernel.accessAllowed ? 'block' : 'none';\n",
              "\n",
              "      async function convertToInteractive(key) {\n",
              "        const element = document.querySelector('#df-92488bcc-26c3-4cb0-8a52-9df34a4d701c');\n",
              "        const dataTable =\n",
              "          await google.colab.kernel.invokeFunction('convertToInteractive',\n",
              "                                                    [key], {});\n",
              "        if (!dataTable) return;\n",
              "\n",
              "        const docLinkHtml = 'Like what you see? Visit the ' +\n",
              "          '<a target=\"_blank\" href=https://colab.research.google.com/notebooks/data_table.ipynb>data table notebook</a>'\n",
              "          + ' to learn more about interactive tables.';\n",
              "        element.innerHTML = '';\n",
              "        dataTable['output_type'] = 'display_data';\n",
              "        await google.colab.output.renderOutput(dataTable, element);\n",
              "        const docLink = document.createElement('div');\n",
              "        docLink.innerHTML = docLinkHtml;\n",
              "        element.appendChild(docLink);\n",
              "      }\n",
              "    </script>\n",
              "  </div>\n",
              "\n",
              "\n",
              "<div id=\"df-2c75a3c1-4cca-4ea0-b6af-395adfaeee5f\">\n",
              "  <button class=\"colab-df-quickchart\" onclick=\"quickchart('df-2c75a3c1-4cca-4ea0-b6af-395adfaeee5f')\"\n",
              "            title=\"Suggest charts\"\n",
              "            style=\"display:none;\">\n",
              "\n",
              "<svg xmlns=\"http://www.w3.org/2000/svg\" height=\"24px\"viewBox=\"0 0 24 24\"\n",
              "     width=\"24px\">\n",
              "    <g>\n",
              "        <path d=\"M19 3H5c-1.1 0-2 .9-2 2v14c0 1.1.9 2 2 2h14c1.1 0 2-.9 2-2V5c0-1.1-.9-2-2-2zM9 17H7v-7h2v7zm4 0h-2V7h2v10zm4 0h-2v-4h2v4z\"/>\n",
              "    </g>\n",
              "</svg>\n",
              "  </button>\n",
              "\n",
              "<style>\n",
              "  .colab-df-quickchart {\n",
              "      --bg-color: #E8F0FE;\n",
              "      --fill-color: #1967D2;\n",
              "      --hover-bg-color: #E2EBFA;\n",
              "      --hover-fill-color: #174EA6;\n",
              "      --disabled-fill-color: #AAA;\n",
              "      --disabled-bg-color: #DDD;\n",
              "  }\n",
              "\n",
              "  [theme=dark] .colab-df-quickchart {\n",
              "      --bg-color: #3B4455;\n",
              "      --fill-color: #D2E3FC;\n",
              "      --hover-bg-color: #434B5C;\n",
              "      --hover-fill-color: #FFFFFF;\n",
              "      --disabled-bg-color: #3B4455;\n",
              "      --disabled-fill-color: #666;\n",
              "  }\n",
              "\n",
              "  .colab-df-quickchart {\n",
              "    background-color: var(--bg-color);\n",
              "    border: none;\n",
              "    border-radius: 50%;\n",
              "    cursor: pointer;\n",
              "    display: none;\n",
              "    fill: var(--fill-color);\n",
              "    height: 32px;\n",
              "    padding: 0;\n",
              "    width: 32px;\n",
              "  }\n",
              "\n",
              "  .colab-df-quickchart:hover {\n",
              "    background-color: var(--hover-bg-color);\n",
              "    box-shadow: 0 1px 2px rgba(60, 64, 67, 0.3), 0 1px 3px 1px rgba(60, 64, 67, 0.15);\n",
              "    fill: var(--button-hover-fill-color);\n",
              "  }\n",
              "\n",
              "  .colab-df-quickchart-complete:disabled,\n",
              "  .colab-df-quickchart-complete:disabled:hover {\n",
              "    background-color: var(--disabled-bg-color);\n",
              "    fill: var(--disabled-fill-color);\n",
              "    box-shadow: none;\n",
              "  }\n",
              "\n",
              "  .colab-df-spinner {\n",
              "    border: 2px solid var(--fill-color);\n",
              "    border-color: transparent;\n",
              "    border-bottom-color: var(--fill-color);\n",
              "    animation:\n",
              "      spin 1s steps(1) infinite;\n",
              "  }\n",
              "\n",
              "  @keyframes spin {\n",
              "    0% {\n",
              "      border-color: transparent;\n",
              "      border-bottom-color: var(--fill-color);\n",
              "      border-left-color: var(--fill-color);\n",
              "    }\n",
              "    20% {\n",
              "      border-color: transparent;\n",
              "      border-left-color: var(--fill-color);\n",
              "      border-top-color: var(--fill-color);\n",
              "    }\n",
              "    30% {\n",
              "      border-color: transparent;\n",
              "      border-left-color: var(--fill-color);\n",
              "      border-top-color: var(--fill-color);\n",
              "      border-right-color: var(--fill-color);\n",
              "    }\n",
              "    40% {\n",
              "      border-color: transparent;\n",
              "      border-right-color: var(--fill-color);\n",
              "      border-top-color: var(--fill-color);\n",
              "    }\n",
              "    60% {\n",
              "      border-color: transparent;\n",
              "      border-right-color: var(--fill-color);\n",
              "    }\n",
              "    80% {\n",
              "      border-color: transparent;\n",
              "      border-right-color: var(--fill-color);\n",
              "      border-bottom-color: var(--fill-color);\n",
              "    }\n",
              "    90% {\n",
              "      border-color: transparent;\n",
              "      border-bottom-color: var(--fill-color);\n",
              "    }\n",
              "  }\n",
              "</style>\n",
              "\n",
              "  <script>\n",
              "    async function quickchart(key) {\n",
              "      const quickchartButtonEl =\n",
              "        document.querySelector('#' + key + ' button');\n",
              "      quickchartButtonEl.disabled = true;  // To prevent multiple clicks.\n",
              "      quickchartButtonEl.classList.add('colab-df-spinner');\n",
              "      try {\n",
              "        const charts = await google.colab.kernel.invokeFunction(\n",
              "            'suggestCharts', [key], {});\n",
              "      } catch (error) {\n",
              "        console.error('Error during call to suggestCharts:', error);\n",
              "      }\n",
              "      quickchartButtonEl.classList.remove('colab-df-spinner');\n",
              "      quickchartButtonEl.classList.add('colab-df-quickchart-complete');\n",
              "    }\n",
              "    (() => {\n",
              "      let quickchartButtonEl =\n",
              "        document.querySelector('#df-2c75a3c1-4cca-4ea0-b6af-395adfaeee5f button');\n",
              "      quickchartButtonEl.style.display =\n",
              "        google.colab.kernel.accessAllowed ? 'block' : 'none';\n",
              "    })();\n",
              "  </script>\n",
              "</div>\n",
              "\n",
              "    </div>\n",
              "  </div>\n"
            ]
          },
          "metadata": {},
          "execution_count": 39
        }
      ]
    },
    {
      "cell_type": "code",
      "source": [
        "df.Close.plot()"
      ],
      "metadata": {
        "colab": {
          "base_uri": "https://localhost:8080/",
          "height": 439
        },
        "id": "uxiOIN-Ysrx1",
        "outputId": "c065a254-2642-4f8c-a060-c11330230b1a"
      },
      "execution_count": 40,
      "outputs": [
        {
          "output_type": "execute_result",
          "data": {
            "text/plain": [
              "<Axes: xlabel='Date'>"
            ]
          },
          "metadata": {},
          "execution_count": 40
        },
        {
          "output_type": "display_data",
          "data": {
            "text/plain": [
              "<Figure size 640x480 with 1 Axes>"
            ],
            "image/png": "[encoded data removed]"
          },
          "metadata": {}
        }
      ]
    },
    {
      "cell_type": "markdown",
      "source": [
        "#SVM"
      ],
      "metadata": {
        "id": "K1rFY5LPt69q"
      }
    },
    {
      "cell_type": "code",
      "source": [
        "# prompt: build model of svm for date and close values\n",
        "\n",
        "from sklearn.model_selection import train_test_split\n",
        "from sklearn.svm import SVR\n",
        "# split dataset into training set and test set\n",
        "x_train, x_test, y_train, y_test = train_test_split(\n",
        "    df[['Date']], df['Close'], test_size=0.2, random_state=42)\n",
        "# fit SVR model on training data\n",
        "model = SVR()\n",
        "model.fit(x_train, y_train)\n",
        "# make predictions on test data\n",
        "y_pred = model.predict(x_test)\n",
        "# evaluate model performance\n",
        "print('R2 score:', model.score(x_test, y_test))\n",
        "print('Mean absolute error:', np.mean(np.abs(y_test - y_pred)))\n",
        "# plot predicted vs actual values\n",
        "plt.scatter(y_test, y_pred)\n",
        "plt.xlabel('Actual values')\n",
        "plt.ylabel('Predicted values')\n",
        "plt.show()\n"
      ],
      "metadata": {
        "colab": {
          "base_uri": "https://localhost:8080/",
          "height": 486
        },
        "id": "ZFfRznRDwKmL",
        "outputId": "b56bd2e8-1db6-4300-e334-4ece2be978be"
      },
      "execution_count": 41,
      "outputs": [
        {
          "output_type": "stream",
          "name": "stdout",
          "text": [
            "R2 score: 0.93471250801891\n",
            "Mean absolute error: 4.0326415294603\n"
          ]
        },
        {
          "output_type": "display_data",
          "data": {
            "text/plain": [
              "<Figure size 640x480 with 1 Axes>"
            ],
            "image/png": "[encoded data removed]"
          },
          "metadata": {}
        }
      ]
    },
    {
      "cell_type": "code",
      "source": [
        "df['Prediction'] = model.predict(df[['Date']])\n",
        "df.Prediction.plot()\n",
        "df.Close.plot()\n"
      ],
      "metadata": {
        "colab": {
          "base_uri": "https://localhost:8080/",
          "height": 439
        },
        "id": "53ZKXWKJwVXY",
        "outputId": "842dbe87-05f3-4cc3-8af7-5a5df6bf4d30"
      },
      "execution_count": 42,
      "outputs": [
        {
          "output_type": "execute_result",
          "data": {
            "text/plain": [
              "<Axes: xlabel='Date'>"
            ]
          },
          "metadata": {},
          "execution_count": 42
        },
        {
          "output_type": "display_data",
          "data": {
            "text/plain": [
              "<Figure size 640x480 with 1 Axes>"
            ],
            "image/png": "[encoded data removed]"
          },
          "metadata": {}
        }
      ]
    },
    {
      "cell_type": "markdown",
      "source": [
        "# Train Data and Test Data"
      ],
      "metadata": {
        "id": "qorgQ43K0Adm"
      }
    },
    {
      "cell_type": "code",
      "source": [
        "# Determin ratio of train to test ratio\n",
        "ratio = 0.8\n",
        "split_point = int(df.Close.values.reshape(-1,1).shape[0] * ratio)\n",
        "train_df = df[:split_point].Close.values.reshape(-1,1)\n",
        "test_df = df[split_point:].Close.values.reshape(-1,1)\n"
      ],
      "metadata": {
        "id": "nMS71cLMzsaI"
      },
      "execution_count": 43,
      "outputs": []
    },
    {
      "cell_type": "code",
      "source": [
        "X_train = []\n",
        "y_train = []\n",
        "y_steps = 5\n",
        "X_steps = 10\n",
        "for i in range(X_steps, len(train_df) - y_steps + 1):\n",
        "  X_train.append(train_df[i-X_steps:i,0])\n",
        "  y_train.append(train_df[i:i+y_steps,0])\n",
        "\n",
        "X = df.Close.values\n",
        "X = X[len(X)-len(test_df)-X_steps:]\n",
        "X = X.reshape(-1,1)\n",
        "\n",
        "X_test = []\n",
        "y_test = []\n",
        "for i in range(X_steps, len(test_df) - y_steps + X_steps + 1):\n",
        "  X_test.append(X[i-X_steps:i,0])\n",
        "  y_test.append(X[i:i+y_steps,0])\n",
        "\n",
        "\n",
        "\n",
        "\n"
      ],
      "metadata": {
        "id": "l55WL4xS0w8G"
      },
      "execution_count": 44,
      "outputs": []
    },
    {
      "cell_type": "code",
      "source": [
        "test_df[-15:,0]"
      ],
      "metadata": {
        "colab": {
          "base_uri": "https://localhost:8080/"
        },
        "id": "mRkVPE7W7C-r",
        "outputId": "44daee8f-af2e-410c-d5b2-cfe763e74e80"
      },
      "execution_count": 45,
      "outputs": [
        {
          "output_type": "execute_result",
          "data": {
            "text/plain": [
              "array([148.106, 148.675, 146.704, 144.971, 147.368, 144.839, 142.803,\n",
              "       142.402, 144.221, 146.949, 147.143, 148.064, 146.448, 146.505,\n",
              "       146.003])"
            ]
          },
          "metadata": {},
          "execution_count": 45
        }
      ]
    },
    {
      "cell_type": "code",
      "source": [
        "X_test[-1]\n"
      ],
      "metadata": {
        "colab": {
          "base_uri": "https://localhost:8080/"
        },
        "id": "6rjOIWSy7ymd",
        "outputId": "fa1c5677-af7f-4f1d-fe6f-5598700102a2"
      },
      "execution_count": 46,
      "outputs": [
        {
          "output_type": "execute_result",
          "data": {
            "text/plain": [
              "array([148.106, 148.675, 146.704, 144.971, 147.368, 144.839, 142.803,\n",
              "       142.402, 144.221, 146.949])"
            ]
          },
          "metadata": {},
          "execution_count": 46
        }
      ]
    },
    {
      "cell_type": "code",
      "source": [
        "y_test[-1]\n"
      ],
      "metadata": {
        "colab": {
          "base_uri": "https://localhost:8080/"
        },
        "id": "lX8GZlN173X0",
        "outputId": "be9b2fcd-dfca-4118-e599-a811e3ff516b"
      },
      "execution_count": 47,
      "outputs": [
        {
          "output_type": "execute_result",
          "data": {
            "text/plain": [
              "array([147.143, 148.064, 146.448, 146.505, 146.003])"
            ]
          },
          "metadata": {},
          "execution_count": 47
        }
      ]
    },
    {
      "cell_type": "code",
      "source": [
        "np.array(X_train).shape\n"
      ],
      "metadata": {
        "colab": {
          "base_uri": "https://localhost:8080/"
        },
        "id": "N4wg4TYw9GVc",
        "outputId": "8f5f2a98-31ff-494d-a169-cf3cfc523927"
      },
      "execution_count": 48,
      "outputs": [
        {
          "output_type": "execute_result",
          "data": {
            "text/plain": [
              "(1998, 10)"
            ]
          },
          "metadata": {},
          "execution_count": 48
        }
      ]
    },
    {
      "cell_type": "code",
      "source": [
        "def ts_data(df,X_steps,y_steps):\n",
        "  split_point = int(df.Close.values.reshape(-1,1).shape[0] * 0.8)\n",
        "  train_df = df[:split_point].Close.values.reshape(-1,1)\n",
        "  test_df = df[split_point:].Close.values.reshape(-1,1)\n",
        "\n",
        "  sc = MinMaxScaler(feature_range=(0,1))\n",
        "  train_df = sc.fit_transform(train_df)\n",
        "\n",
        "\n",
        "  X_train = []\n",
        "  y_train = []\n",
        "  for i in range(X_steps, len(train_df) - y_steps + 1):\n",
        "    X_train.append(train_df[i-X_steps:i,0])\n",
        "    y_train.append(train_df[i:i+y_steps,0])\n",
        "  X_train = np.array(X_train)\n",
        "  y_train = np.array(y_train)\n",
        "\n",
        "  X_train = X_train.reshape(X_train.shape[0],X_train.shape[1],1)\n",
        "\n",
        "  X = df.Close.values\n",
        "  X = X[len(X)-len(test_df)-X_steps:]\n",
        "  X = X.reshape(-1,1)\n",
        "  X = sc.transform(X)\n",
        "\n",
        "  X_test = []\n",
        "  y_test = []\n",
        "  for i in range(X_steps, len(test_df) - y_steps + X_steps + 1):\n",
        "    X_test.append(X[i-X_steps:i,0])\n",
        "    y_test.append(X[i:i+y_steps,0])\n",
        "  X_test = np.array(X_test)\n",
        "  y_test = np.array(y_test)\n",
        "\n",
        "  X_test = X_test.reshape(X_test.shape[0],X_test.shape[1],1)\n",
        "\n",
        "  return X_train,y_train,X_test,y_test,sc\n",
        "\n",
        "\n",
        "\n",
        "\n"
      ],
      "metadata": {
        "id": "OMUqVAJNzKan"
      },
      "execution_count": 49,
      "outputs": []
    },
    {
      "cell_type": "markdown",
      "source": [
        "# Determine X_steps and y_steps"
      ],
      "metadata": {
        "id": "gB8Ti5IsX80p"
      }
    },
    {
      "cell_type": "code",
      "source": [
        "X_steps,y_steps = 6,2"
      ],
      "metadata": {
        "id": "gZc6jiJCYCq5"
      },
      "execution_count": 50,
      "outputs": []
    },
    {
      "cell_type": "code",
      "source": [
        "X_train,y_train,X_test,y_test,sc = ts_data(df,X_steps,y_steps)\n",
        "\n"
      ],
      "metadata": {
        "id": "EWpFdM7dD9sC"
      },
      "execution_count": 51,
      "outputs": []
    },
    {
      "cell_type": "code",
      "source": [
        "X_train.shape\n",
        "\n"
      ],
      "metadata": {
        "colab": {
          "base_uri": "https://localhost:8080/"
        },
        "id": "hoXI3KnyEK-U",
        "outputId": "019f8f34-ac1d-4d0d-8651-281c64307e9d"
      },
      "execution_count": 52,
      "outputs": [
        {
          "output_type": "execute_result",
          "data": {
            "text/plain": [
              "(2005, 6, 1)"
            ]
          },
          "metadata": {},
          "execution_count": 52
        }
      ]
    },
    {
      "cell_type": "code",
      "source": [
        "y_train.shape\n",
        "\n",
        "\n"
      ],
      "metadata": {
        "colab": {
          "base_uri": "https://localhost:8080/"
        },
        "id": "gBj_rGVzENQS",
        "outputId": "4818a19d-2a55-41a3-e8a6-617143f02983"
      },
      "execution_count": 53,
      "outputs": [
        {
          "output_type": "execute_result",
          "data": {
            "text/plain": [
              "(2005, 2)"
            ]
          },
          "metadata": {},
          "execution_count": 53
        }
      ]
    },
    {
      "cell_type": "code",
      "source": [
        "X_test.shape"
      ],
      "metadata": {
        "colab": {
          "base_uri": "https://localhost:8080/"
        },
        "id": "Bx0nAsjYEYqC",
        "outputId": "6db496a2-c49d-49a5-db04-54bab8820e5d"
      },
      "execution_count": 54,
      "outputs": [
        {
          "output_type": "execute_result",
          "data": {
            "text/plain": [
              "(503, 6, 1)"
            ]
          },
          "metadata": {},
          "execution_count": 54
        }
      ]
    },
    {
      "cell_type": "code",
      "source": [
        "y_test.shape\n",
        "\n"
      ],
      "metadata": {
        "colab": {
          "base_uri": "https://localhost:8080/"
        },
        "id": "PNaAR9rhEeWq",
        "outputId": "4898f7fb-c126-4c1f-9d9a-1c421278d76c"
      },
      "execution_count": 55,
      "outputs": [
        {
          "output_type": "execute_result",
          "data": {
            "text/plain": [
              "(503, 2)"
            ]
          },
          "metadata": {},
          "execution_count": 55
        }
      ]
    },
    {
      "cell_type": "markdown",
      "source": [
        "# Simple RNN-Model"
      ],
      "metadata": {
        "id": "4fam-glvE2dh"
      }
    },
    {
      "cell_type": "code",
      "source": [
        "!pip install keras-tuner --upgrade"
      ],
      "metadata": {
        "id": "1Xdyh1m5SlwD",
        "outputId": "12e669e9-35fb-4d12-dab6-47b33a3cba2e",
        "colab": {
          "base_uri": "https://localhost:8080/"
        }
      },
      "execution_count": 56,
      "outputs": [
        {
          "output_type": "stream",
          "name": "stdout",
          "text": [
            "Requirement already satisfied: keras-tuner in /usr/local/lib/python3.10/dist-packages (1.4.6)\n",
            "Requirement already satisfied: keras in /usr/local/lib/python3.10/dist-packages (from keras-tuner) (2.14.0)\n",
            "Requirement already satisfied: packaging in /usr/local/lib/python3.10/dist-packages (from keras-tuner) (23.2)\n",
            "Requirement already satisfied: requests in /usr/local/lib/python3.10/dist-packages (from keras-tuner) (2.31.0)\n",
            "Requirement already satisfied: kt-legacy in /usr/local/lib/python3.10/dist-packages (from keras-tuner) (1.0.5)\n",
            "Requirement already satisfied: charset-normalizer<4,>=2 in /usr/local/lib/python3.10/dist-packages (from requests->keras-tuner) (3.3.2)\n",
            "Requirement already satisfied: idna<4,>=2.5 in /usr/local/lib/python3.10/dist-packages (from requests->keras-tuner) (3.4)\n",
            "Requirement already satisfied: urllib3<3,>=1.21.1 in /usr/local/lib/python3.10/dist-packages (from requests->keras-tuner) (2.0.7)\n",
            "Requirement already satisfied: certifi>=2017.4.17 in /usr/local/lib/python3.10/dist-packages (from requests->keras-tuner) (2023.7.22)\n"
          ]
        }
      ]
    },
    {
      "cell_type": "code",
      "source": [
        "from keras.models import Sequential\n",
        "from keras.layers import Dense, SimpleRNN"
      ],
      "metadata": {
        "id": "w1Lag2QKE8Kh"
      },
      "execution_count": 57,
      "outputs": []
    },
    {
      "cell_type": "code",
      "source": [
        "import keras_tuner\n",
        "from tensorflow import keras\n",
        "\n",
        "def build_model(hp):\n",
        "  model = keras.Sequential()\n",
        "  for i in range(hp.Int('num_layers', 1, 5)):\n",
        "    model.add(SimpleRNN(hp.Int('units_' + str(i), 10, 100), return_sequences=True))\n",
        "  model.add(SimpleRNN(hp.Int('units_' + str(i + 1), 10, 100)))\n",
        "  model.add(keras.layers.Dense(2, activation='relu'))\n",
        "  model.compile(optimizer='adam',loss='mean_absolute_error')\n",
        "  return model\n",
        "\n",
        "\n",
        "tuner = keras_tuner.RandomSearch(\n",
        "    build_model,\n",
        "    objective='val_loss',\n",
        "    max_trials=20)"
      ],
      "metadata": {
        "id": "U9h_eK4mS8di",
        "outputId": "98485e38-00b3-42d3-a6f3-f052d4c368b2",
        "colab": {
          "base_uri": "https://localhost:8080/"
        }
      },
      "execution_count": 58,
      "outputs": [
        {
          "output_type": "stream",
          "name": "stdout",
          "text": [
            "Reloading Tuner from ./untitled_project/tuner0.json\n"
          ]
        }
      ]
    },
    {
      "cell_type": "code",
      "source": [
        "tuner.search(X_train, y_train, epochs=20, validation_data=(X_test,y_test))\n",
        "best_model = tuner.get_best_models()[0]"
      ],
      "metadata": {
        "id": "tcvZj370S_5x"
      },
      "execution_count": 59,
      "outputs": []
    },
    {
      "cell_type": "code",
      "source": [
        "simple_rnn_model = best_model"
      ],
      "metadata": {
        "id": "n3zv3WcjV1n7"
      },
      "execution_count": 60,
      "outputs": []
    },
    {
      "cell_type": "code",
      "source": [
        "simple_rnn_model.fit(X_train,y_train,epochs=100,validation_split=0.15)"
      ],
      "metadata": {
        "id": "ManOGOXEV7wZ",
        "outputId": "3ecf9c2f-e88f-4686-9d4e-c78e3b6a0658",
        "colab": {
          "base_uri": "https://localhost:8080/"
        }
      },
      "execution_count": 61,
      "outputs": [
        {
          "output_type": "stream",
          "name": "stdout",
          "text": [
            "Epoch 1/100\n",
            "54/54 [==============================] - 4s 19ms/step - loss: 0.0116 - val_loss: 0.0181\n",
            "Epoch 2/100\n",
            "54/54 [==============================] - 1s 19ms/step - loss: 0.0110 - val_loss: 0.0256\n",
            "Epoch 3/100\n",
            "54/54 [==============================] - 1s 16ms/step - loss: 0.0097 - val_loss: 0.0170\n",
            "Epoch 4/100\n",
            "54/54 [==============================] - 1s 17ms/step - loss: 0.0089 - val_loss: 0.0188\n",
            "Epoch 5/100\n",
            "54/54 [==============================] - 1s 18ms/step - loss: 0.0089 - val_loss: 0.0165\n",
            "Epoch 6/100\n",
            "54/54 [==============================] - 1s 16ms/step - loss: 0.0084 - val_loss: 0.0197\n",
            "Epoch 7/100\n",
            "54/54 [==============================] - 1s 12ms/step - loss: 0.0090 - val_loss: 0.0205\n",
            "Epoch 8/100\n",
            "54/54 [==============================] - 1s 13ms/step - loss: 0.0096 - val_loss: 0.0294\n",
            "Epoch 9/100\n",
            "54/54 [==============================] - 1s 14ms/step - loss: 0.0090 - val_loss: 0.0213\n",
            "Epoch 10/100\n",
            "54/54 [==============================] - 1s 11ms/step - loss: 0.0090 - val_loss: 0.0157\n",
            "Epoch 11/100\n",
            "54/54 [==============================] - 1s 10ms/step - loss: 0.0095 - val_loss: 0.0159\n",
            "Epoch 12/100\n",
            "54/54 [==============================] - 1s 12ms/step - loss: 0.0092 - val_loss: 0.0159\n",
            "Epoch 13/100\n",
            "54/54 [==============================] - 1s 13ms/step - loss: 0.0088 - val_loss: 0.0154\n",
            "Epoch 14/100\n",
            "54/54 [==============================] - 1s 14ms/step - loss: 0.0083 - val_loss: 0.0159\n",
            "Epoch 15/100\n",
            "54/54 [==============================] - 1s 12ms/step - loss: 0.0090 - val_loss: 0.0160\n",
            "Epoch 16/100\n",
            "54/54 [==============================] - 1s 13ms/step - loss: 0.0079 - val_loss: 0.0168\n",
            "Epoch 17/100\n",
            "54/54 [==============================] - 1s 18ms/step - loss: 0.0082 - val_loss: 0.0152\n",
            "Epoch 18/100\n",
            "54/54 [==============================] - 1s 11ms/step - loss: 0.0084 - val_loss: 0.0186\n",
            "Epoch 19/100\n",
            "54/54 [==============================] - 1s 11ms/step - loss: 0.0082 - val_loss: 0.0208\n",
            "Epoch 20/100\n",
            "54/54 [==============================] - 1s 13ms/step - loss: 0.0088 - val_loss: 0.0159\n",
            "Epoch 21/100\n",
            "54/54 [==============================] - 1s 20ms/step - loss: 0.0094 - val_loss: 0.0177\n",
            "Epoch 22/100\n",
            "54/54 [==============================] - 1s 19ms/step - loss: 0.0084 - val_loss: 0.0271\n",
            "Epoch 23/100\n",
            "54/54 [==============================] - 1s 21ms/step - loss: 0.0090 - val_loss: 0.0184\n",
            "Epoch 24/100\n",
            "54/54 [==============================] - 1s 21ms/step - loss: 0.0087 - val_loss: 0.0197\n",
            "Epoch 25/100\n",
            "54/54 [==============================] - 1s 22ms/step - loss: 0.0085 - val_loss: 0.0168\n",
            "Epoch 26/100\n",
            "54/54 [==============================] - 1s 17ms/step - loss: 0.0097 - val_loss: 0.0259\n",
            "Epoch 27/100\n",
            "54/54 [==============================] - 1s 18ms/step - loss: 0.0092 - val_loss: 0.0171\n",
            "Epoch 28/100\n",
            "54/54 [==============================] - 1s 14ms/step - loss: 0.0087 - val_loss: 0.0290\n",
            "Epoch 29/100\n",
            "54/54 [==============================] - 1s 15ms/step - loss: 0.0092 - val_loss: 0.0165\n",
            "Epoch 30/100\n",
            "54/54 [==============================] - 1s 14ms/step - loss: 0.0081 - val_loss: 0.0177\n",
            "Epoch 31/100\n",
            "54/54 [==============================] - 1s 15ms/step - loss: 0.0084 - val_loss: 0.0243\n",
            "Epoch 32/100\n",
            "54/54 [==============================] - 1s 13ms/step - loss: 0.0101 - val_loss: 0.0155\n",
            "Epoch 33/100\n",
            "54/54 [==============================] - 1s 15ms/step - loss: 0.0085 - val_loss: 0.0159\n",
            "Epoch 34/100\n",
            "54/54 [==============================] - 1s 15ms/step - loss: 0.0092 - val_loss: 0.0164\n",
            "Epoch 35/100\n",
            "54/54 [==============================] - 1s 15ms/step - loss: 0.0090 - val_loss: 0.0311\n",
            "Epoch 36/100\n",
            "54/54 [==============================] - 1s 10ms/step - loss: 0.0088 - val_loss: 0.0202\n",
            "Epoch 37/100\n",
            "54/54 [==============================] - 1s 11ms/step - loss: 0.0084 - val_loss: 0.0236\n",
            "Epoch 38/100\n",
            "54/54 [==============================] - 1s 11ms/step - loss: 0.0088 - val_loss: 0.0169\n",
            "Epoch 39/100\n",
            "54/54 [==============================] - 1s 13ms/step - loss: 0.0080 - val_loss: 0.0175\n",
            "Epoch 40/100\n",
            "54/54 [==============================] - 1s 13ms/step - loss: 0.0081 - val_loss: 0.0176\n",
            "Epoch 41/100\n",
            "54/54 [==============================] - 1s 19ms/step - loss: 0.0081 - val_loss: 0.0180\n",
            "Epoch 42/100\n",
            "54/54 [==============================] - 1s 18ms/step - loss: 0.0083 - val_loss: 0.0160\n",
            "Epoch 43/100\n",
            "54/54 [==============================] - 1s 15ms/step - loss: 0.0080 - val_loss: 0.0239\n",
            "Epoch 44/100\n",
            "54/54 [==============================] - 1s 18ms/step - loss: 0.0100 - val_loss: 0.0155\n",
            "Epoch 45/100\n",
            "54/54 [==============================] - 1s 13ms/step - loss: 0.0085 - val_loss: 0.0163\n",
            "Epoch 46/100\n",
            "54/54 [==============================] - 1s 14ms/step - loss: 0.0085 - val_loss: 0.0182\n",
            "Epoch 47/100\n",
            "54/54 [==============================] - 1s 15ms/step - loss: 0.0086 - val_loss: 0.0162\n",
            "Epoch 48/100\n",
            "54/54 [==============================] - 1s 16ms/step - loss: 0.0091 - val_loss: 0.0165\n",
            "Epoch 49/100\n",
            "54/54 [==============================] - 1s 15ms/step - loss: 0.0084 - val_loss: 0.0170\n",
            "Epoch 50/100\n",
            "54/54 [==============================] - 1s 18ms/step - loss: 0.0089 - val_loss: 0.0197\n",
            "Epoch 51/100\n",
            "54/54 [==============================] - 1s 13ms/step - loss: 0.0093 - val_loss: 0.0176\n",
            "Epoch 52/100\n",
            "54/54 [==============================] - 1s 13ms/step - loss: 0.0085 - val_loss: 0.0209\n",
            "Epoch 53/100\n",
            "54/54 [==============================] - 1s 13ms/step - loss: 0.0086 - val_loss: 0.0154\n",
            "Epoch 54/100\n",
            "54/54 [==============================] - 1s 14ms/step - loss: 0.0084 - val_loss: 0.0229\n",
            "Epoch 55/100\n",
            "54/54 [==============================] - 1s 12ms/step - loss: 0.0083 - val_loss: 0.0159\n",
            "Epoch 56/100\n",
            "54/54 [==============================] - 1s 13ms/step - loss: 0.0081 - val_loss: 0.0157\n",
            "Epoch 57/100\n",
            "54/54 [==============================] - 1s 12ms/step - loss: 0.0091 - val_loss: 0.0160\n",
            "Epoch 58/100\n",
            "54/54 [==============================] - 0s 6ms/step - loss: 0.0083 - val_loss: 0.0190\n",
            "Epoch 59/100\n",
            "54/54 [==============================] - 0s 6ms/step - loss: 0.0086 - val_loss: 0.0211\n",
            "Epoch 60/100\n",
            "54/54 [==============================] - 0s 6ms/step - loss: 0.0082 - val_loss: 0.0167\n",
            "Epoch 61/100\n",
            "54/54 [==============================] - 0s 6ms/step - loss: 0.0080 - val_loss: 0.0170\n",
            "Epoch 62/100\n",
            "54/54 [==============================] - 0s 7ms/step - loss: 0.0083 - val_loss: 0.0252\n",
            "Epoch 63/100\n",
            "54/54 [==============================] - 0s 6ms/step - loss: 0.0085 - val_loss: 0.0232\n",
            "Epoch 64/100\n",
            "54/54 [==============================] - 0s 7ms/step - loss: 0.0093 - val_loss: 0.0217\n",
            "Epoch 65/100\n",
            "54/54 [==============================] - 0s 7ms/step - loss: 0.0087 - val_loss: 0.0495\n",
            "Epoch 66/100\n",
            "54/54 [==============================] - 0s 6ms/step - loss: 0.0104 - val_loss: 0.0167\n",
            "Epoch 67/100\n",
            "54/54 [==============================] - 0s 6ms/step - loss: 0.0081 - val_loss: 0.0185\n",
            "Epoch 68/100\n",
            "54/54 [==============================] - 0s 6ms/step - loss: 0.0083 - val_loss: 0.0162\n",
            "Epoch 69/100\n",
            "54/54 [==============================] - 1s 10ms/step - loss: 0.0083 - val_loss: 0.0189\n",
            "Epoch 70/100\n",
            "54/54 [==============================] - 1s 10ms/step - loss: 0.0081 - val_loss: 0.0173\n",
            "Epoch 71/100\n",
            "54/54 [==============================] - 0s 8ms/step - loss: 0.0083 - val_loss: 0.0160\n",
            "Epoch 72/100\n",
            "54/54 [==============================] - 1s 10ms/step - loss: 0.0081 - val_loss: 0.0158\n",
            "Epoch 73/100\n",
            "54/54 [==============================] - 0s 9ms/step - loss: 0.0082 - val_loss: 0.0168\n",
            "Epoch 74/100\n",
            "54/54 [==============================] - 0s 9ms/step - loss: 0.0081 - val_loss: 0.0195\n",
            "Epoch 75/100\n",
            "54/54 [==============================] - 0s 9ms/step - loss: 0.0086 - val_loss: 0.0260\n",
            "Epoch 76/100\n",
            "54/54 [==============================] - 1s 11ms/step - loss: 0.0086 - val_loss: 0.0157\n",
            "Epoch 77/100\n",
            "54/54 [==============================] - 0s 9ms/step - loss: 0.0083 - val_loss: 0.0254\n",
            "Epoch 78/100\n",
            "54/54 [==============================] - 1s 10ms/step - loss: 0.0082 - val_loss: 0.0206\n",
            "Epoch 79/100\n",
            "54/54 [==============================] - 1s 10ms/step - loss: 0.0086 - val_loss: 0.0175\n",
            "Epoch 80/100\n",
            "54/54 [==============================] - 1s 10ms/step - loss: 0.0085 - val_loss: 0.0319\n",
            "Epoch 81/100\n",
            "54/54 [==============================] - 1s 9ms/step - loss: 0.0107 - val_loss: 0.0164\n",
            "Epoch 82/100\n",
            "54/54 [==============================] - 0s 7ms/step - loss: 0.0081 - val_loss: 0.0154\n",
            "Epoch 83/100\n",
            "54/54 [==============================] - 0s 7ms/step - loss: 0.0083 - val_loss: 0.0186\n",
            "Epoch 84/100\n",
            "54/54 [==============================] - 0s 7ms/step - loss: 0.0085 - val_loss: 0.0199\n",
            "Epoch 85/100\n",
            "54/54 [==============================] - 0s 7ms/step - loss: 0.0079 - val_loss: 0.0205\n",
            "Epoch 86/100\n",
            "54/54 [==============================] - 0s 6ms/step - loss: 0.0085 - val_loss: 0.0157\n",
            "Epoch 87/100\n",
            "54/54 [==============================] - 0s 6ms/step - loss: 0.0088 - val_loss: 0.0198\n",
            "Epoch 88/100\n",
            "54/54 [==============================] - 0s 6ms/step - loss: 0.0081 - val_loss: 0.0156\n",
            "Epoch 89/100\n",
            "54/54 [==============================] - 0s 6ms/step - loss: 0.0082 - val_loss: 0.0171\n",
            "Epoch 90/100\n",
            "54/54 [==============================] - 0s 6ms/step - loss: 0.0082 - val_loss: 0.0181\n",
            "Epoch 91/100\n",
            "54/54 [==============================] - 0s 6ms/step - loss: 0.0084 - val_loss: 0.0310\n",
            "Epoch 92/100\n",
            "54/54 [==============================] - 0s 6ms/step - loss: 0.0084 - val_loss: 0.0195\n",
            "Epoch 93/100\n",
            "54/54 [==============================] - 0s 6ms/step - loss: 0.0081 - val_loss: 0.0155\n",
            "Epoch 94/100\n",
            "54/54 [==============================] - 0s 6ms/step - loss: 0.0082 - val_loss: 0.0157\n",
            "Epoch 95/100\n",
            "54/54 [==============================] - 0s 7ms/step - loss: 0.0078 - val_loss: 0.0158\n",
            "Epoch 96/100\n",
            "54/54 [==============================] - 0s 7ms/step - loss: 0.0085 - val_loss: 0.0186\n",
            "Epoch 97/100\n",
            "54/54 [==============================] - 0s 6ms/step - loss: 0.0086 - val_loss: 0.0174\n",
            "Epoch 98/100\n",
            "54/54 [==============================] - 0s 6ms/step - loss: 0.0086 - val_loss: 0.0159\n",
            "Epoch 99/100\n",
            "54/54 [==============================] - 0s 7ms/step - loss: 0.0084 - val_loss: 0.0164\n",
            "Epoch 100/100\n",
            "54/54 [==============================] - 0s 6ms/step - loss: 0.0082 - val_loss: 0.0162\n"
          ]
        },
        {
          "output_type": "execute_result",
          "data": {
            "text/plain": [
              "<keras.src.callbacks.History at 0x7bc5c457b7c0>"
            ]
          },
          "metadata": {},
          "execution_count": 61
        }
      ]
    },
    {
      "cell_type": "code",
      "source": [
        "simple_rnn_model.summary()"
      ],
      "metadata": {
        "id": "ZikgisL7Wpsa",
        "outputId": "09b0a32c-1d48-48e1-bfe1-182e55cea957",
        "colab": {
          "base_uri": "https://localhost:8080/"
        }
      },
      "execution_count": 62,
      "outputs": [
        {
          "output_type": "stream",
          "name": "stdout",
          "text": [
            "Model: \"sequential\"\n",
            "_________________________________________________________________\n",
            " Layer (type)                Output Shape              Param #   \n",
            "=================================================================\n",
            " simple_rnn (SimpleRNN)      (None, 6, 82)             6888      \n",
            "                                                                 \n",
            " simple_rnn_1 (SimpleRNN)    (None, 82)                13530     \n",
            "                                                                 \n",
            " dense (Dense)               (None, 2)                 166       \n",
            "                                                                 \n",
            "=================================================================\n",
            "Total params: 20584 (80.41 KB)\n",
            "Trainable params: 20584 (80.41 KB)\n",
            "Non-trainable params: 0 (0.00 Byte)\n",
            "_________________________________________________________________\n"
          ]
        }
      ]
    },
    {
      "cell_type": "code",
      "source": [
        "simple_rnn_pred = simple_rnn_model.predict(X_test)\n",
        "simple_rnn_pred.shape\n"
      ],
      "metadata": {
        "colab": {
          "base_uri": "https://localhost:8080/"
        },
        "id": "6kYTb71Ga2Ks",
        "outputId": "7499d47a-0ea3-422f-f11f-e70f54253a3a"
      },
      "execution_count": 63,
      "outputs": [
        {
          "output_type": "stream",
          "name": "stdout",
          "text": [
            "16/16 [==============================] - 0s 3ms/step\n"
          ]
        },
        {
          "output_type": "execute_result",
          "data": {
            "text/plain": [
              "(503, 2)"
            ]
          },
          "metadata": {},
          "execution_count": 63
        }
      ]
    },
    {
      "cell_type": "code",
      "source": [
        "def prediction_plot(predictions):\n",
        "  fig , ax = plt.subplots(figsize=(10,5))\n",
        "  ax.plot(df[split_point:].index[:len(y_test)],\n",
        "          sc.inverse_transform(y_test[:,0].reshape(-1,1)),label = \"Real\")\n",
        "  ax.plot(df[split_point:].index[:len(y_test)],\n",
        "          sc.inverse_transform(predictions[:,0].reshape(-1,1)),label = \"Prediction\")"
      ],
      "metadata": {
        "id": "ivKKIXdwChIn"
      },
      "execution_count": 64,
      "outputs": []
    },
    {
      "cell_type": "code",
      "source": [
        "prediction_plot(simple_rnn_pred)\n",
        "\n"
      ],
      "metadata": {
        "colab": {
          "base_uri": "https://localhost:8080/",
          "height": 445
        },
        "id": "RJtz2n--bfZL",
        "outputId": "0ea49ed2-36b0-47c9-8acd-4b5c578b87a1"
      },
      "execution_count": 65,
      "outputs": [
        {
          "output_type": "display_data",
          "data": {
            "text/plain": [
              "<Figure size 1000x500 with 1 Axes>"
            ],
            "image/png": "[encoded data removed]"
          },
          "metadata": {}
        }
      ]
    },
    {
      "cell_type": "code",
      "source": [
        "simple_rnn_model.evaluate(X_test,y_test)"
      ],
      "metadata": {
        "id": "0PJvx3sOR5s0",
        "outputId": "225df2fd-04b2-45f7-fc5a-2f5979cc0aea",
        "colab": {
          "base_uri": "https://localhost:8080/"
        }
      },
      "execution_count": 66,
      "outputs": [
        {
          "output_type": "stream",
          "name": "stdout",
          "text": [
            "16/16 [==============================] - 0s 7ms/step - loss: 0.0784\n"
          ]
        },
        {
          "output_type": "execute_result",
          "data": {
            "text/plain": [
              "0.07838014513254166"
            ]
          },
          "metadata": {},
          "execution_count": 66
        }
      ]
    },
    {
      "cell_type": "markdown",
      "source": [
        "# LSTM"
      ],
      "metadata": {
        "id": "PurvNqRzQBRy"
      }
    },
    {
      "cell_type": "code",
      "source": [
        "from keras.layers import LSTM"
      ],
      "metadata": {
        "id": "rlsyHtadQRK6"
      },
      "execution_count": null,
      "outputs": []
    },
    {
      "cell_type": "code",
      "source": [
        "lstm = Sequential([\n",
        "                               LSTM(50, return_sequences=True),\n",
        "                               LSTM(50),\n",
        "                               Dense(2)\n",
        "                              ])"
      ],
      "metadata": {
        "id": "1c9V__iSQgYi"
      },
      "execution_count": null,
      "outputs": []
    },
    {
      "cell_type": "code",
      "source": [
        "lstm.compile(optimizer=\"adam\",loss=\"mean_squared_error\")"
      ],
      "metadata": {
        "id": "536LYnBGQD5X"
      },
      "execution_count": null,
      "outputs": []
    },
    {
      "cell_type": "code",
      "source": [
        "lstm.fit(X_train,y_train,epochs=100,validation_split=0.15)"
      ],
      "metadata": {
        "colab": {
          "base_uri": "https://localhost:8080/"
        },
        "id": "XkZWvlYYRgeq",
        "outputId": "52f5a825-43c9-4390-9a6f-f5acf3832096"
      },
      "execution_count": null,
      "outputs": [
        {
          "output_type": "stream",
          "name": "stdout",
          "text": [
            "Epoch 1/100\n",
            "60/60 [==============================] - 7s 28ms/step - loss: 0.0075 - val_loss: 0.0153\n",
            "Epoch 2/100\n",
            "60/60 [==============================] - 1s 13ms/step - loss: 1.2380e-04 - val_loss: 0.0021\n",
            "Epoch 3/100\n",
            "60/60 [==============================] - 1s 12ms/step - loss: 8.4762e-05 - val_loss: 0.0016\n",
            "Epoch 4/100\n",
            "60/60 [==============================] - 1s 14ms/step - loss: 7.7626e-05 - val_loss: 9.9257e-04\n",
            "Epoch 5/100\n",
            "60/60 [==============================] - 1s 17ms/step - loss: 7.4555e-05 - val_loss: 0.0011\n",
            "Epoch 6/100\n",
            "60/60 [==============================] - 1s 19ms/step - loss: 7.2000e-05 - val_loss: 0.0018\n",
            "Epoch 7/100\n",
            "60/60 [==============================] - 1s 18ms/step - loss: 6.7943e-05 - val_loss: 0.0014\n",
            "Epoch 8/100\n",
            "60/60 [==============================] - 1s 13ms/step - loss: 6.5741e-05 - val_loss: 0.0020\n",
            "Epoch 9/100\n",
            "60/60 [==============================] - 1s 13ms/step - loss: 6.6282e-05 - val_loss: 0.0018\n",
            "Epoch 10/100\n",
            "60/60 [==============================] - 1s 13ms/step - loss: 6.8682e-05 - val_loss: 0.0024\n",
            "Epoch 11/100\n",
            "60/60 [==============================] - 1s 12ms/step - loss: 8.4583e-05 - val_loss: 0.0014\n",
            "Epoch 12/100\n",
            "60/60 [==============================] - 1s 12ms/step - loss: 7.2948e-05 - val_loss: 0.0015\n",
            "Epoch 13/100\n",
            "60/60 [==============================] - 1s 12ms/step - loss: 7.0670e-05 - val_loss: 0.0015\n",
            "Epoch 14/100\n",
            "60/60 [==============================] - 1s 12ms/step - loss: 6.8042e-05 - val_loss: 0.0020\n",
            "Epoch 15/100\n",
            "60/60 [==============================] - 1s 12ms/step - loss: 7.7300e-05 - val_loss: 0.0017\n",
            "Epoch 16/100\n",
            "60/60 [==============================] - 1s 11ms/step - loss: 7.2260e-05 - val_loss: 0.0014\n",
            "Epoch 17/100\n",
            "60/60 [==============================] - 1s 12ms/step - loss: 6.8477e-05 - val_loss: 0.0017\n",
            "Epoch 18/100\n",
            "60/60 [==============================] - 1s 11ms/step - loss: 7.4807e-05 - val_loss: 0.0018\n",
            "Epoch 19/100\n",
            "60/60 [==============================] - 1s 14ms/step - loss: 7.3012e-05 - val_loss: 0.0018\n",
            "Epoch 20/100\n",
            "60/60 [==============================] - 1s 13ms/step - loss: 6.8102e-05 - val_loss: 0.0019\n",
            "Epoch 21/100\n",
            "60/60 [==============================] - 1s 15ms/step - loss: 7.2849e-05 - val_loss: 0.0013\n",
            "Epoch 22/100\n",
            "60/60 [==============================] - 1s 22ms/step - loss: 6.5151e-05 - val_loss: 0.0016\n",
            "Epoch 23/100\n",
            "60/60 [==============================] - 1s 18ms/step - loss: 7.2236e-05 - val_loss: 0.0022\n",
            "Epoch 24/100\n",
            "60/60 [==============================] - 1s 13ms/step - loss: 7.4238e-05 - val_loss: 0.0016\n",
            "Epoch 25/100\n",
            "60/60 [==============================] - 1s 13ms/step - loss: 6.7457e-05 - val_loss: 0.0014\n",
            "Epoch 26/100\n",
            "60/60 [==============================] - 1s 11ms/step - loss: 7.2840e-05 - val_loss: 0.0016\n",
            "Epoch 27/100\n",
            "60/60 [==============================] - 1s 12ms/step - loss: 7.1475e-05 - val_loss: 0.0021\n",
            "Epoch 28/100\n",
            "60/60 [==============================] - 1s 13ms/step - loss: 6.8553e-05 - val_loss: 0.0012\n",
            "Epoch 29/100\n",
            "60/60 [==============================] - 1s 19ms/step - loss: 6.8201e-05 - val_loss: 0.0018\n",
            "Epoch 30/100\n",
            "60/60 [==============================] - 1s 20ms/step - loss: 6.5790e-05 - val_loss: 0.0012\n",
            "Epoch 31/100\n",
            "60/60 [==============================] - 1s 18ms/step - loss: 7.4290e-05 - val_loss: 0.0019\n",
            "Epoch 32/100\n",
            "60/60 [==============================] - 1s 12ms/step - loss: 6.4931e-05 - val_loss: 0.0015\n",
            "Epoch 33/100\n",
            "60/60 [==============================] - 1s 18ms/step - loss: 6.7462e-05 - val_loss: 0.0018\n",
            "Epoch 34/100\n",
            "60/60 [==============================] - 1s 19ms/step - loss: 8.2541e-05 - val_loss: 0.0013\n",
            "Epoch 35/100\n",
            "60/60 [==============================] - 2s 25ms/step - loss: 6.8659e-05 - val_loss: 0.0013\n",
            "Epoch 36/100\n",
            "60/60 [==============================] - 1s 20ms/step - loss: 6.4596e-05 - val_loss: 0.0010\n",
            "Epoch 37/100\n",
            "60/60 [==============================] - 1s 16ms/step - loss: 7.1472e-05 - val_loss: 0.0015\n",
            "Epoch 38/100\n",
            "60/60 [==============================] - 1s 13ms/step - loss: 7.0967e-05 - val_loss: 0.0018\n",
            "Epoch 39/100\n",
            "60/60 [==============================] - 1s 14ms/step - loss: 6.9654e-05 - val_loss: 0.0013\n",
            "Epoch 40/100\n",
            "60/60 [==============================] - 1s 14ms/step - loss: 7.1908e-05 - val_loss: 9.8128e-04\n",
            "Epoch 41/100\n",
            "60/60 [==============================] - 1s 13ms/step - loss: 6.8596e-05 - val_loss: 0.0013\n",
            "Epoch 42/100\n",
            "60/60 [==============================] - 1s 12ms/step - loss: 6.5219e-05 - val_loss: 0.0010\n",
            "Epoch 43/100\n",
            "60/60 [==============================] - 1s 12ms/step - loss: 6.7134e-05 - val_loss: 0.0013\n",
            "Epoch 44/100\n",
            "60/60 [==============================] - 1s 12ms/step - loss: 6.4880e-05 - val_loss: 0.0016\n",
            "Epoch 45/100\n",
            "60/60 [==============================] - 1s 13ms/step - loss: 7.1653e-05 - val_loss: 0.0019\n",
            "Epoch 46/100\n",
            "60/60 [==============================] - 1s 12ms/step - loss: 7.7083e-05 - val_loss: 0.0013\n",
            "Epoch 47/100\n",
            "60/60 [==============================] - 1s 14ms/step - loss: 6.2582e-05 - val_loss: 0.0013\n",
            "Epoch 48/100\n",
            "60/60 [==============================] - 1s 14ms/step - loss: 6.3747e-05 - val_loss: 0.0017\n",
            "Epoch 49/100\n",
            "60/60 [==============================] - 1s 13ms/step - loss: 6.8470e-05 - val_loss: 9.6664e-04\n",
            "Epoch 50/100\n",
            "60/60 [==============================] - 1s 17ms/step - loss: 1.0832e-04 - val_loss: 0.0038\n",
            "Epoch 51/100\n",
            "60/60 [==============================] - 1s 18ms/step - loss: 9.7219e-05 - val_loss: 0.0018\n",
            "Epoch 52/100\n",
            "60/60 [==============================] - 1s 17ms/step - loss: 6.4185e-05 - val_loss: 0.0010\n",
            "Epoch 53/100\n",
            "60/60 [==============================] - 1s 12ms/step - loss: 6.5673e-05 - val_loss: 0.0015\n",
            "Epoch 54/100\n",
            "60/60 [==============================] - 1s 12ms/step - loss: 6.2084e-05 - val_loss: 0.0016\n",
            "Epoch 55/100\n",
            "60/60 [==============================] - 1s 12ms/step - loss: 6.0952e-05 - val_loss: 0.0016\n",
            "Epoch 56/100\n",
            "60/60 [==============================] - 1s 11ms/step - loss: 6.1393e-05 - val_loss: 9.5928e-04\n",
            "Epoch 57/100\n",
            "60/60 [==============================] - 1s 12ms/step - loss: 6.8633e-05 - val_loss: 0.0012\n",
            "Epoch 58/100\n",
            "60/60 [==============================] - 1s 12ms/step - loss: 6.7496e-05 - val_loss: 9.5841e-04\n",
            "Epoch 59/100\n",
            "60/60 [==============================] - 1s 12ms/step - loss: 6.6151e-05 - val_loss: 0.0011\n",
            "Epoch 60/100\n",
            "60/60 [==============================] - 1s 12ms/step - loss: 6.3285e-05 - val_loss: 0.0016\n",
            "Epoch 61/100\n",
            "60/60 [==============================] - 1s 12ms/step - loss: 6.6665e-05 - val_loss: 0.0014\n",
            "Epoch 62/100\n",
            "60/60 [==============================] - 1s 13ms/step - loss: 5.9405e-05 - val_loss: 9.7243e-04\n",
            "Epoch 63/100\n",
            "60/60 [==============================] - 1s 13ms/step - loss: 6.9756e-05 - val_loss: 0.0012\n",
            "Epoch 64/100\n",
            "60/60 [==============================] - 1s 11ms/step - loss: 6.1893e-05 - val_loss: 0.0016\n",
            "Epoch 65/100\n",
            "60/60 [==============================] - 1s 12ms/step - loss: 6.8593e-05 - val_loss: 0.0012\n",
            "Epoch 66/100\n",
            "60/60 [==============================] - 1s 18ms/step - loss: 5.7144e-05 - val_loss: 9.5089e-04\n",
            "Epoch 67/100\n",
            "60/60 [==============================] - 1s 18ms/step - loss: 6.1309e-05 - val_loss: 9.1479e-04\n",
            "Epoch 68/100\n",
            "60/60 [==============================] - 1s 22ms/step - loss: 6.1979e-05 - val_loss: 0.0013\n",
            "Epoch 69/100\n",
            "60/60 [==============================] - 1s 14ms/step - loss: 5.8450e-05 - val_loss: 7.7635e-04\n",
            "Epoch 70/100\n",
            "60/60 [==============================] - 1s 14ms/step - loss: 6.0680e-05 - val_loss: 0.0010\n",
            "Epoch 71/100\n",
            "60/60 [==============================] - 1s 12ms/step - loss: 5.9883e-05 - val_loss: 0.0012\n",
            "Epoch 72/100\n",
            "60/60 [==============================] - 1s 12ms/step - loss: 6.2568e-05 - val_loss: 0.0011\n",
            "Epoch 73/100\n",
            "60/60 [==============================] - 1s 12ms/step - loss: 6.2431e-05 - val_loss: 8.0958e-04\n",
            "Epoch 74/100\n",
            "60/60 [==============================] - 1s 12ms/step - loss: 5.6318e-05 - val_loss: 9.2119e-04\n",
            "Epoch 75/100\n",
            "60/60 [==============================] - 1s 14ms/step - loss: 6.4130e-05 - val_loss: 0.0012\n",
            "Epoch 76/100\n",
            "60/60 [==============================] - 1s 14ms/step - loss: 5.9182e-05 - val_loss: 0.0012\n",
            "Epoch 77/100\n",
            "60/60 [==============================] - 1s 13ms/step - loss: 5.8035e-05 - val_loss: 0.0021\n",
            "Epoch 78/100\n",
            "60/60 [==============================] - 1s 12ms/step - loss: 7.8931e-05 - val_loss: 0.0014\n",
            "Epoch 79/100\n",
            "60/60 [==============================] - 1s 13ms/step - loss: 6.8641e-05 - val_loss: 9.3307e-04\n",
            "Epoch 80/100\n",
            "60/60 [==============================] - 1s 14ms/step - loss: 5.5452e-05 - val_loss: 9.5527e-04\n",
            "Epoch 81/100\n",
            "60/60 [==============================] - 1s 15ms/step - loss: 5.9266e-05 - val_loss: 9.0289e-04\n",
            "Epoch 82/100\n",
            "60/60 [==============================] - 1s 19ms/step - loss: 6.0609e-05 - val_loss: 9.4415e-04\n",
            "Epoch 83/100\n",
            "60/60 [==============================] - 1s 22ms/step - loss: 5.6303e-05 - val_loss: 7.1591e-04\n",
            "Epoch 84/100\n",
            "60/60 [==============================] - 1s 14ms/step - loss: 5.7193e-05 - val_loss: 8.5924e-04\n",
            "Epoch 85/100\n",
            "60/60 [==============================] - 1s 13ms/step - loss: 5.1003e-05 - val_loss: 0.0011\n",
            "Epoch 86/100\n",
            "60/60 [==============================] - 1s 12ms/step - loss: 5.1913e-05 - val_loss: 9.6848e-04\n",
            "Epoch 87/100\n",
            "60/60 [==============================] - 1s 14ms/step - loss: 5.4316e-05 - val_loss: 8.5382e-04\n",
            "Epoch 88/100\n",
            "60/60 [==============================] - 1s 12ms/step - loss: 5.2122e-05 - val_loss: 0.0016\n",
            "Epoch 89/100\n",
            "60/60 [==============================] - 1s 12ms/step - loss: 6.2261e-05 - val_loss: 8.1933e-04\n",
            "Epoch 90/100\n",
            "60/60 [==============================] - 1s 13ms/step - loss: 5.3542e-05 - val_loss: 8.6582e-04\n",
            "Epoch 91/100\n",
            "60/60 [==============================] - 1s 14ms/step - loss: 5.3834e-05 - val_loss: 6.2520e-04\n",
            "Epoch 92/100\n",
            "60/60 [==============================] - 1s 14ms/step - loss: 5.2782e-05 - val_loss: 7.9940e-04\n",
            "Epoch 93/100\n",
            "60/60 [==============================] - 1s 12ms/step - loss: 5.6424e-05 - val_loss: 0.0010\n",
            "Epoch 94/100\n",
            "60/60 [==============================] - 1s 12ms/step - loss: 5.1690e-05 - val_loss: 9.9969e-04\n",
            "Epoch 95/100\n",
            "60/60 [==============================] - 1s 12ms/step - loss: 5.0832e-05 - val_loss: 9.2776e-04\n",
            "Epoch 96/100\n",
            "60/60 [==============================] - 1s 14ms/step - loss: 5.3109e-05 - val_loss: 8.5870e-04\n",
            "Epoch 97/100\n",
            "60/60 [==============================] - 1s 20ms/step - loss: 5.6214e-05 - val_loss: 6.7645e-04\n",
            "Epoch 98/100\n",
            "60/60 [==============================] - 1s 20ms/step - loss: 5.1030e-05 - val_loss: 0.0013\n",
            "Epoch 99/100\n",
            "60/60 [==============================] - 1s 15ms/step - loss: 5.6560e-05 - val_loss: 6.0845e-04\n",
            "Epoch 100/100\n",
            "60/60 [==============================] - 1s 12ms/step - loss: 5.3423e-05 - val_loss: 6.5595e-04\n"
          ]
        },
        {
          "output_type": "execute_result",
          "data": {
            "text/plain": [
              "<keras.src.callbacks.History at 0x7b0e62f285b0>"
            ]
          },
          "metadata": {},
          "execution_count": 227
        }
      ]
    },
    {
      "cell_type": "code",
      "source": [
        "prediction_plot(lstm.predict(X_test))\n",
        "\n",
        "\n"
      ],
      "metadata": {
        "id": "6EwRJ3WrSP7h",
        "outputId": "9499c43a-f7bf-49d0-fde6-e2021aaad8d5",
        "colab": {
          "base_uri": "https://localhost:8080/",
          "height": 462
        }
      },
      "execution_count": null,
      "outputs": [
        {
          "output_type": "stream",
          "name": "stdout",
          "text": [
            "8/8 [==============================] - 2s 8ms/step\n"
          ]
        },
        {
          "output_type": "display_data",
          "data": {
            "text/plain": [
              "<Figure size 1000x500 with 1 Axes>"
            ],
            "image/png": "[encoded data removed]"
          },
          "metadata": {}
        }
      ]
    }
  ]
}