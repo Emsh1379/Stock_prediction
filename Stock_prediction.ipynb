{
  "nbformat": 4,
  "nbformat_minor": 0,
  "metadata": {
    "colab": {
      "provenance": [],
      "include_colab_link": true
    },
    "kernelspec": {
      "name": "python3",
      "display_name": "Python 3"
    },
    "language_info": {
      "name": "python"
    }
  },
  "cells": [
    {
      "cell_type": "markdown",
      "metadata": {
        "id": "view-in-github",
        "colab_type": "text"
      },
      "source": [
        "<a href=\"https://colab.research.google.com/github/Emsh1379/Stock_prediction/blob/main/Stock_prediction.ipynb\" target=\"_parent\"><img src=\"https://colab.research.google.com/assets/colab-badge.svg\" alt=\"Open In Colab\"/></a>"
      ]
    },
    {
      "cell_type": "code",
      "source": [
        "!pip install yfinance"
      ],
      "metadata": {
        "colab": {
          "base_uri": "https://localhost:8080/"
        },
        "id": "B-nMoByeqG2O",
        "outputId": "5d93d213-1f96-4514-e8d2-eb91837fa18f"
      },
      "execution_count": 3,
      "outputs": [
        {
          "output_type": "stream",
          "name": "stdout",
          "text": [
            "Requirement already satisfied: yfinance in /usr/local/lib/python3.10/dist-packages (0.2.31)\n",
            "Requirement already satisfied: pandas>=1.3.0 in /usr/local/lib/python3.10/dist-packages (from yfinance) (1.5.3)\n",
            "Requirement already satisfied: numpy>=1.16.5 in /usr/local/lib/python3.10/dist-packages (from yfinance) (1.23.5)\n",
            "Requirement already satisfied: requests>=2.31 in /usr/local/lib/python3.10/dist-packages (from yfinance) (2.31.0)\n",
            "Requirement already satisfied: multitasking>=0.0.7 in /usr/local/lib/python3.10/dist-packages (from yfinance) (0.0.11)\n",
            "Requirement already satisfied: lxml>=4.9.1 in /usr/local/lib/python3.10/dist-packages (from yfinance) (4.9.3)\n",
            "Requirement already satisfied: appdirs>=1.4.4 in /usr/local/lib/python3.10/dist-packages (from yfinance) (1.4.4)\n",
            "Requirement already satisfied: pytz>=2022.5 in /usr/local/lib/python3.10/dist-packages (from yfinance) (2023.3.post1)\n",
            "Requirement already satisfied: frozendict>=2.3.4 in /usr/local/lib/python3.10/dist-packages (from yfinance) (2.3.8)\n",
            "Requirement already satisfied: peewee>=3.16.2 in /usr/local/lib/python3.10/dist-packages (from yfinance) (3.17.0)\n",
            "Requirement already satisfied: beautifulsoup4>=4.11.1 in /usr/local/lib/python3.10/dist-packages (from yfinance) (4.11.2)\n",
            "Requirement already satisfied: html5lib>=1.1 in /usr/local/lib/python3.10/dist-packages (from yfinance) (1.1)\n",
            "Requirement already satisfied: soupsieve>1.2 in /usr/local/lib/python3.10/dist-packages (from beautifulsoup4>=4.11.1->yfinance) (2.5)\n",
            "Requirement already satisfied: six>=1.9 in /usr/local/lib/python3.10/dist-packages (from html5lib>=1.1->yfinance) (1.16.0)\n",
            "Requirement already satisfied: webencodings in /usr/local/lib/python3.10/dist-packages (from html5lib>=1.1->yfinance) (0.5.1)\n",
            "Requirement already satisfied: python-dateutil>=2.8.1 in /usr/local/lib/python3.10/dist-packages (from pandas>=1.3.0->yfinance) (2.8.2)\n",
            "Requirement already satisfied: charset-normalizer<4,>=2 in /usr/local/lib/python3.10/dist-packages (from requests>=2.31->yfinance) (3.3.2)\n",
            "Requirement already satisfied: idna<4,>=2.5 in /usr/local/lib/python3.10/dist-packages (from requests>=2.31->yfinance) (3.4)\n",
            "Requirement already satisfied: urllib3<3,>=1.21.1 in /usr/local/lib/python3.10/dist-packages (from requests>=2.31->yfinance) (2.0.7)\n",
            "Requirement already satisfied: certifi>=2017.4.17 in /usr/local/lib/python3.10/dist-packages (from requests>=2.31->yfinance) (2023.7.22)\n"
          ]
        }
      ]
    },
    {
      "cell_type": "code",
      "execution_count": 4,
      "metadata": {
        "id": "Kh4ysm90yaJO"
      },
      "outputs": [],
      "source": [
        "import tensorflow as tf\n",
        "import numpy as np\n",
        "import pandas as pd\n",
        "import matplotlib.pyplot as plt\n",
        "from sklearn.preprocessing import MinMaxScaler"
      ]
    },
    {
      "cell_type": "code",
      "source": [
        "import yfinance as yf"
      ],
      "metadata": {
        "id": "uP7TvLR-qUgN"
      },
      "execution_count": 5,
      "outputs": []
    },
    {
      "cell_type": "code",
      "source": [
        "ms = yf.download(\"MSFT\",\n",
        "            start = \"2012-01-01\",\n",
        "            end =\"2021-12-31\",\n",
        "            progress = False )\n",
        "df = ms[[\"Adj Close\",\"Open\",\"Close\",\"High\",\"Low\"]].round(3)\n",
        "df['Date']= df.index\n",
        "df.head()"
      ],
      "metadata": {
        "colab": {
          "base_uri": "https://localhost:8080/",
          "height": 237
        },
        "id": "s4-ehzIIqbkl",
        "outputId": "579b64ab-ed2c-409e-9a02-e9d9926e5f81"
      },
      "execution_count": 26,
      "outputs": [
        {
          "output_type": "execute_result",
          "data": {
            "text/plain": [
              "            Adj Close   Open  Close   High    Low       Date\n",
              "Date                                                        \n",
              "2012-01-03     21.321  26.55  26.77  26.96  26.39 2012-01-03\n",
              "2012-01-04     21.823  26.82  27.40  27.47  26.78 2012-01-04\n",
              "2012-01-05     22.046  27.38  27.68  27.73  27.29 2012-01-05\n",
              "2012-01-06     22.388  27.53  28.11  28.19  27.53 2012-01-06\n",
              "2012-01-09     22.094  28.05  27.74  28.10  27.72 2012-01-09"
            ],
            "text/html": [
              "\n",
              "  <div id=\"df-23f8c342-9247-42af-ad97-fb9ad7aa333d\" class=\"colab-df-container\">\n",
              "    <div>\n",
              "<style scoped>\n",
              "    .dataframe tbody tr th:only-of-type {\n",
              "        vertical-align: middle;\n",
              "    }\n",
              "\n",
              "    .dataframe tbody tr th {\n",
              "        vertical-align: top;\n",
              "    }\n",
              "\n",
              "    .dataframe thead th {\n",
              "        text-align: right;\n",
              "    }\n",
              "</style>\n",
              "<table border=\"1\" class=\"dataframe\">\n",
              "  <thead>\n",
              "    <tr style=\"text-align: right;\">\n",
              "      <th></th>\n",
              "      <th>Adj Close</th>\n",
              "      <th>Open</th>\n",
              "      <th>Close</th>\n",
              "      <th>High</th>\n",
              "      <th>Low</th>\n",
              "      <th>Date</th>\n",
              "    </tr>\n",
              "    <tr>\n",
              "      <th>Date</th>\n",
              "      <th></th>\n",
              "      <th></th>\n",
              "      <th></th>\n",
              "      <th></th>\n",
              "      <th></th>\n",
              "      <th></th>\n",
              "    </tr>\n",
              "  </thead>\n",
              "  <tbody>\n",
              "    <tr>\n",
              "      <th>2012-01-03</th>\n",
              "      <td>21.321</td>\n",
              "      <td>26.55</td>\n",
              "      <td>26.77</td>\n",
              "      <td>26.96</td>\n",
              "      <td>26.39</td>\n",
              "      <td>2012-01-03</td>\n",
              "    </tr>\n",
              "    <tr>\n",
              "      <th>2012-01-04</th>\n",
              "      <td>21.823</td>\n",
              "      <td>26.82</td>\n",
              "      <td>27.40</td>\n",
              "      <td>27.47</td>\n",
              "      <td>26.78</td>\n",
              "      <td>2012-01-04</td>\n",
              "    </tr>\n",
              "    <tr>\n",
              "      <th>2012-01-05</th>\n",
              "      <td>22.046</td>\n",
              "      <td>27.38</td>\n",
              "      <td>27.68</td>\n",
              "      <td>27.73</td>\n",
              "      <td>27.29</td>\n",
              "      <td>2012-01-05</td>\n",
              "    </tr>\n",
              "    <tr>\n",
              "      <th>2012-01-06</th>\n",
              "      <td>22.388</td>\n",
              "      <td>27.53</td>\n",
              "      <td>28.11</td>\n",
              "      <td>28.19</td>\n",
              "      <td>27.53</td>\n",
              "      <td>2012-01-06</td>\n",
              "    </tr>\n",
              "    <tr>\n",
              "      <th>2012-01-09</th>\n",
              "      <td>22.094</td>\n",
              "      <td>28.05</td>\n",
              "      <td>27.74</td>\n",
              "      <td>28.10</td>\n",
              "      <td>27.72</td>\n",
              "      <td>2012-01-09</td>\n",
              "    </tr>\n",
              "  </tbody>\n",
              "</table>\n",
              "</div>\n",
              "    <div class=\"colab-df-buttons\">\n",
              "\n",
              "  <div class=\"colab-df-container\">\n",
              "    <button class=\"colab-df-convert\" onclick=\"convertToInteractive('df-23f8c342-9247-42af-ad97-fb9ad7aa333d')\"\n",
              "            title=\"Convert this dataframe to an interactive table.\"\n",
              "            style=\"display:none;\">\n",
              "\n",
              "  <svg xmlns=\"http://www.w3.org/2000/svg\" height=\"24px\" viewBox=\"0 -960 960 960\">\n",
              "    <path d=\"M120-120v-720h720v720H120Zm60-500h600v-160H180v160Zm220 220h160v-160H400v160Zm0 220h160v-160H400v160ZM180-400h160v-160H180v160Zm440 0h160v-160H620v160ZM180-180h160v-160H180v160Zm440 0h160v-160H620v160Z\"/>\n",
              "  </svg>\n",
              "    </button>\n",
              "\n",
              "  <style>\n",
              "    .colab-df-container {\n",
              "      display:flex;\n",
              "      gap: 12px;\n",
              "    }\n",
              "\n",
              "    .colab-df-convert {\n",
              "      background-color: #E8F0FE;\n",
              "      border: none;\n",
              "      border-radius: 50%;\n",
              "      cursor: pointer;\n",
              "      display: none;\n",
              "      fill: #1967D2;\n",
              "      height: 32px;\n",
              "      padding: 0 0 0 0;\n",
              "      width: 32px;\n",
              "    }\n",
              "\n",
              "    .colab-df-convert:hover {\n",
              "      background-color: #E2EBFA;\n",
              "      box-shadow: 0px 1px 2px rgba(60, 64, 67, 0.3), 0px 1px 3px 1px rgba(60, 64, 67, 0.15);\n",
              "      fill: #174EA6;\n",
              "    }\n",
              "\n",
              "    .colab-df-buttons div {\n",
              "      margin-bottom: 4px;\n",
              "    }\n",
              "\n",
              "    [theme=dark] .colab-df-convert {\n",
              "      background-color: #3B4455;\n",
              "      fill: #D2E3FC;\n",
              "    }\n",
              "\n",
              "    [theme=dark] .colab-df-convert:hover {\n",
              "      background-color: #434B5C;\n",
              "      box-shadow: 0px 1px 3px 1px rgba(0, 0, 0, 0.15);\n",
              "      filter: drop-shadow(0px 1px 2px rgba(0, 0, 0, 0.3));\n",
              "      fill: #FFFFFF;\n",
              "    }\n",
              "  </style>\n",
              "\n",
              "    <script>\n",
              "      const buttonEl =\n",
              "        document.querySelector('#df-23f8c342-9247-42af-ad97-fb9ad7aa333d button.colab-df-convert');\n",
              "      buttonEl.style.display =\n",
              "        google.colab.kernel.accessAllowed ? 'block' : 'none';\n",
              "\n",
              "      async function convertToInteractive(key) {\n",
              "        const element = document.querySelector('#df-23f8c342-9247-42af-ad97-fb9ad7aa333d');\n",
              "        const dataTable =\n",
              "          await google.colab.kernel.invokeFunction('convertToInteractive',\n",
              "                                                    [key], {});\n",
              "        if (!dataTable) return;\n",
              "\n",
              "        const docLinkHtml = 'Like what you see? Visit the ' +\n",
              "          '<a target=\"_blank\" href=https://colab.research.google.com/notebooks/data_table.ipynb>data table notebook</a>'\n",
              "          + ' to learn more about interactive tables.';\n",
              "        element.innerHTML = '';\n",
              "        dataTable['output_type'] = 'display_data';\n",
              "        await google.colab.output.renderOutput(dataTable, element);\n",
              "        const docLink = document.createElement('div');\n",
              "        docLink.innerHTML = docLinkHtml;\n",
              "        element.appendChild(docLink);\n",
              "      }\n",
              "    </script>\n",
              "  </div>\n",
              "\n",
              "\n",
              "<div id=\"df-6c3e226d-eaf8-439f-aed0-9fd35b8c310e\">\n",
              "  <button class=\"colab-df-quickchart\" onclick=\"quickchart('df-6c3e226d-eaf8-439f-aed0-9fd35b8c310e')\"\n",
              "            title=\"Suggest charts\"\n",
              "            style=\"display:none;\">\n",
              "\n",
              "<svg xmlns=\"http://www.w3.org/2000/svg\" height=\"24px\"viewBox=\"0 0 24 24\"\n",
              "     width=\"24px\">\n",
              "    <g>\n",
              "        <path d=\"M19 3H5c-1.1 0-2 .9-2 2v14c0 1.1.9 2 2 2h14c1.1 0 2-.9 2-2V5c0-1.1-.9-2-2-2zM9 17H7v-7h2v7zm4 0h-2V7h2v10zm4 0h-2v-4h2v4z\"/>\n",
              "    </g>\n",
              "</svg>\n",
              "  </button>\n",
              "\n",
              "<style>\n",
              "  .colab-df-quickchart {\n",
              "      --bg-color: #E8F0FE;\n",
              "      --fill-color: #1967D2;\n",
              "      --hover-bg-color: #E2EBFA;\n",
              "      --hover-fill-color: #174EA6;\n",
              "      --disabled-fill-color: #AAA;\n",
              "      --disabled-bg-color: #DDD;\n",
              "  }\n",
              "\n",
              "  [theme=dark] .colab-df-quickchart {\n",
              "      --bg-color: #3B4455;\n",
              "      --fill-color: #D2E3FC;\n",
              "      --hover-bg-color: #434B5C;\n",
              "      --hover-fill-color: #FFFFFF;\n",
              "      --disabled-bg-color: #3B4455;\n",
              "      --disabled-fill-color: #666;\n",
              "  }\n",
              "\n",
              "  .colab-df-quickchart {\n",
              "    background-color: var(--bg-color);\n",
              "    border: none;\n",
              "    border-radius: 50%;\n",
              "    cursor: pointer;\n",
              "    display: none;\n",
              "    fill: var(--fill-color);\n",
              "    height: 32px;\n",
              "    padding: 0;\n",
              "    width: 32px;\n",
              "  }\n",
              "\n",
              "  .colab-df-quickchart:hover {\n",
              "    background-color: var(--hover-bg-color);\n",
              "    box-shadow: 0 1px 2px rgba(60, 64, 67, 0.3), 0 1px 3px 1px rgba(60, 64, 67, 0.15);\n",
              "    fill: var(--button-hover-fill-color);\n",
              "  }\n",
              "\n",
              "  .colab-df-quickchart-complete:disabled,\n",
              "  .colab-df-quickchart-complete:disabled:hover {\n",
              "    background-color: var(--disabled-bg-color);\n",
              "    fill: var(--disabled-fill-color);\n",
              "    box-shadow: none;\n",
              "  }\n",
              "\n",
              "  .colab-df-spinner {\n",
              "    border: 2px solid var(--fill-color);\n",
              "    border-color: transparent;\n",
              "    border-bottom-color: var(--fill-color);\n",
              "    animation:\n",
              "      spin 1s steps(1) infinite;\n",
              "  }\n",
              "\n",
              "  @keyframes spin {\n",
              "    0% {\n",
              "      border-color: transparent;\n",
              "      border-bottom-color: var(--fill-color);\n",
              "      border-left-color: var(--fill-color);\n",
              "    }\n",
              "    20% {\n",
              "      border-color: transparent;\n",
              "      border-left-color: var(--fill-color);\n",
              "      border-top-color: var(--fill-color);\n",
              "    }\n",
              "    30% {\n",
              "      border-color: transparent;\n",
              "      border-left-color: var(--fill-color);\n",
              "      border-top-color: var(--fill-color);\n",
              "      border-right-color: var(--fill-color);\n",
              "    }\n",
              "    40% {\n",
              "      border-color: transparent;\n",
              "      border-right-color: var(--fill-color);\n",
              "      border-top-color: var(--fill-color);\n",
              "    }\n",
              "    60% {\n",
              "      border-color: transparent;\n",
              "      border-right-color: var(--fill-color);\n",
              "    }\n",
              "    80% {\n",
              "      border-color: transparent;\n",
              "      border-right-color: var(--fill-color);\n",
              "      border-bottom-color: var(--fill-color);\n",
              "    }\n",
              "    90% {\n",
              "      border-color: transparent;\n",
              "      border-bottom-color: var(--fill-color);\n",
              "    }\n",
              "  }\n",
              "</style>\n",
              "\n",
              "  <script>\n",
              "    async function quickchart(key) {\n",
              "      const quickchartButtonEl =\n",
              "        document.querySelector('#' + key + ' button');\n",
              "      quickchartButtonEl.disabled = true;  // To prevent multiple clicks.\n",
              "      quickchartButtonEl.classList.add('colab-df-spinner');\n",
              "      try {\n",
              "        const charts = await google.colab.kernel.invokeFunction(\n",
              "            'suggestCharts', [key], {});\n",
              "      } catch (error) {\n",
              "        console.error('Error during call to suggestCharts:', error);\n",
              "      }\n",
              "      quickchartButtonEl.classList.remove('colab-df-spinner');\n",
              "      quickchartButtonEl.classList.add('colab-df-quickchart-complete');\n",
              "    }\n",
              "    (() => {\n",
              "      let quickchartButtonEl =\n",
              "        document.querySelector('#df-6c3e226d-eaf8-439f-aed0-9fd35b8c310e button');\n",
              "      quickchartButtonEl.style.display =\n",
              "        google.colab.kernel.accessAllowed ? 'block' : 'none';\n",
              "    })();\n",
              "  </script>\n",
              "</div>\n",
              "\n",
              "    </div>\n",
              "  </div>\n"
            ]
          },
          "metadata": {},
          "execution_count": 26
        }
      ]
    },
    {
      "cell_type": "code",
      "source": [
        "df.Close.plot()"
      ],
      "metadata": {
        "colab": {
          "base_uri": "https://localhost:8080/",
          "height": 440
        },
        "id": "uxiOIN-Ysrx1",
        "outputId": "6b48a1b7-f1de-4964-ace9-348681b9ac0e"
      },
      "execution_count": 27,
      "outputs": [
        {
          "output_type": "execute_result",
          "data": {
            "text/plain": [
              "<Axes: xlabel='Date'>"
            ]
          },
          "metadata": {},
          "execution_count": 27
        },
        {
          "output_type": "display_data",
          "data": {
            "text/plain": [
              "<Figure size 640x480 with 1 Axes>"
            ],
            "image/png": "[encoded data removed]"
          },
          "metadata": {}
        }
      ]
    },
    {
      "cell_type": "markdown",
      "source": [
        "#SVM"
      ],
      "metadata": {
        "id": "K1rFY5LPt69q"
      }
    },
    {
      "cell_type": "code",
      "source": [
        "# prompt: build model of svm for date and close values\n",
        "\n",
        "from sklearn.model_selection import train_test_split\n",
        "from sklearn.svm import SVR\n",
        "# split dataset into training set and test set\n",
        "x_train, x_test, y_train, y_test = train_test_split(\n",
        "    df[['Date']], df['Close'], test_size=0.2, random_state=42)\n",
        "# fit SVR model on training data\n",
        "model = SVR()\n",
        "model.fit(x_train, y_train)\n",
        "# make predictions on test data\n",
        "y_pred = model.predict(x_test)\n",
        "# evaluate model performance\n",
        "print('R2 score:', model.score(x_test, y_test))\n",
        "print('Mean absolute error:', np.mean(np.abs(y_test - y_pred)))\n",
        "# plot predicted vs actual values\n",
        "plt.scatter(y_test, y_pred)\n",
        "plt.xlabel('Actual values')\n",
        "plt.ylabel('Predicted values')\n",
        "plt.show()\n"
      ],
      "metadata": {
        "colab": {
          "base_uri": "https://localhost:8080/",
          "height": 485
        },
        "id": "ZFfRznRDwKmL",
        "outputId": "85dae2db-b020-4c70-cf9a-194f057f5f26"
      },
      "execution_count": 31,
      "outputs": [
        {
          "output_type": "stream",
          "name": "stdout",
          "text": [
            "R2 score: 0.9559464448661507\n",
            "Mean absolute error: 6.95121746648073\n"
          ]
        },
        {
          "output_type": "display_data",
          "data": {
            "text/plain": [
              "<Figure size 640x480 with 1 Axes>"
            ],
            "image/png": "[encoded data removed]"
          },
          "metadata": {}
        }
      ]
    },
    {
      "cell_type": "code",
      "source": [
        "df['Prediction'] = model.predict(df[['Date']])\n",
        "df.Prediction.plot()\n",
        "df.Close.plot()\n"
      ],
      "metadata": {
        "colab": {
          "base_uri": "https://localhost:8080/",
          "height": 440
        },
        "id": "53ZKXWKJwVXY",
        "outputId": "7deec5d7-8952-4ff5-e6ad-73e984a0a52b"
      },
      "execution_count": 36,
      "outputs": [
        {
          "output_type": "execute_result",
          "data": {
            "text/plain": [
              "<Axes: xlabel='Date'>"
            ]
          },
          "metadata": {},
          "execution_count": 36
        },
        {
          "output_type": "display_data",
          "data": {
            "text/plain": [
              "<Figure size 640x480 with 1 Axes>"
            ],
            "image/png": "[encoded data removed]"
          },
          "metadata": {}
        }
      ]
    },
    {
      "cell_type": "markdown",
      "source": [
        "# Train Data"
      ],
      "metadata": {
        "id": "R1EYMkQiz4yH"
      }
    },
    {
      "cell_type": "code",
      "source": [
        "df[:\"2020\"].Close.values.reshape(-1,1)\n"
      ],
      "metadata": {
        "colab": {
          "base_uri": "https://localhost:8080/"
        },
        "id": "mWVNvM4crZO0",
        "outputId": "636db561-6117-4157-c0ca-6d3bd3df6a2d"
      },
      "execution_count": 8,
      "outputs": [
        {
          "output_type": "execute_result",
          "data": {
            "text/plain": [
              "array([[ 26.77],\n",
              "       [ 27.4 ],\n",
              "       [ 27.68],\n",
              "       ...,\n",
              "       [224.15],\n",
              "       [221.68],\n",
              "       [222.42]])"
            ]
          },
          "metadata": {},
          "execution_count": 8
        }
      ]
    },
    {
      "cell_type": "markdown",
      "source": [
        "# Test Data"
      ],
      "metadata": {
        "id": "qorgQ43K0Adm"
      }
    },
    {
      "cell_type": "code",
      "source": [
        "df[\"2021\":].Close.values.reshape(-1,1).shape"
      ],
      "metadata": {
        "colab": {
          "base_uri": "https://localhost:8080/"
        },
        "id": "nMS71cLMzsaI",
        "outputId": "cb7a91dc-d035-4166-c20e-978337678cd7"
      },
      "execution_count": 9,
      "outputs": [
        {
          "output_type": "execute_result",
          "data": {
            "text/plain": [
              "(251, 1)"
            ]
          },
          "metadata": {},
          "execution_count": 9
        }
      ]
    },
    {
      "cell_type": "code",
      "source": [
        "train_df = df[:\"2020\"].Close.values.reshape(-1,1)\n",
        "test_df = df[\"2021\":].Close.values.reshape(-1,1)\n",
        "\n",
        "X_train = []\n",
        "y_train = []\n",
        "y_steps = 5\n",
        "X_steps = 10\n",
        "for i in range(X_steps, len(train_df) - y_steps + 1):\n",
        "  X_train.append(train_df[i-X_steps:i,0])\n",
        "  y_train.append(train_df[i:i+y_steps,0])\n",
        "\n",
        "X = df.Close.values\n",
        "X = X[len(X)-len(test_df)-X_steps:]\n",
        "X = X.reshape(-1,1)\n",
        "\n",
        "X_test = []\n",
        "y_test = []\n",
        "for i in range(X_steps, len(test_df) - y_steps + X_steps + 1):\n",
        "  X_test.append(X[i-X_steps:i,0])\n",
        "  y_test.append(X[i:i+y_steps,0])\n",
        "\n",
        "\n",
        "\n",
        "\n"
      ],
      "metadata": {
        "id": "l55WL4xS0w8G"
      },
      "execution_count": 10,
      "outputs": []
    },
    {
      "cell_type": "code",
      "source": [
        "test_df[-15:,0]"
      ],
      "metadata": {
        "colab": {
          "base_uri": "https://localhost:8080/"
        },
        "id": "mRkVPE7W7C-r",
        "outputId": "2225debf-34dc-4cdb-9a44-ace047d0a324"
      },
      "execution_count": 11,
      "outputs": [
        {
          "output_type": "execute_result",
          "data": {
            "text/plain": [
              "array([333.1 , 342.54, 339.4 , 328.34, 334.65, 324.9 , 323.8 , 319.91,\n",
              "       327.29, 333.2 , 334.69, 342.45, 341.25, 341.95, 339.32])"
            ]
          },
          "metadata": {},
          "execution_count": 11
        }
      ]
    },
    {
      "cell_type": "code",
      "source": [
        "X_test[-1]\n"
      ],
      "metadata": {
        "colab": {
          "base_uri": "https://localhost:8080/"
        },
        "id": "6rjOIWSy7ymd",
        "outputId": "2565cf82-d27e-4eab-a13f-e5cc3bba29fb"
      },
      "execution_count": 12,
      "outputs": [
        {
          "output_type": "execute_result",
          "data": {
            "text/plain": [
              "array([333.1 , 342.54, 339.4 , 328.34, 334.65, 324.9 , 323.8 , 319.91,\n",
              "       327.29, 333.2 ])"
            ]
          },
          "metadata": {},
          "execution_count": 12
        }
      ]
    },
    {
      "cell_type": "code",
      "source": [
        "y_test[-1]\n"
      ],
      "metadata": {
        "colab": {
          "base_uri": "https://localhost:8080/"
        },
        "id": "lX8GZlN173X0",
        "outputId": "4ed72779-9b42-410b-b1a5-acc3c880a64a"
      },
      "execution_count": 13,
      "outputs": [
        {
          "output_type": "execute_result",
          "data": {
            "text/plain": [
              "array([334.69, 342.45, 341.25, 341.95, 339.32])"
            ]
          },
          "metadata": {},
          "execution_count": 13
        }
      ]
    },
    {
      "cell_type": "code",
      "source": [
        "np.array(X_train).shape\n"
      ],
      "metadata": {
        "colab": {
          "base_uri": "https://localhost:8080/"
        },
        "id": "N4wg4TYw9GVc",
        "outputId": "49e7f0b2-c49c-42e7-a999-54b896fb7f28"
      },
      "execution_count": 14,
      "outputs": [
        {
          "output_type": "execute_result",
          "data": {
            "text/plain": [
              "(2251, 10)"
            ]
          },
          "metadata": {},
          "execution_count": 14
        }
      ]
    },
    {
      "cell_type": "code",
      "source": [
        "def ts_data(df,X_steps,y_steps):\n",
        "  train_df = df[:\"2020\"].Close.values.reshape(-1,1)\n",
        "  test_df = df[\"2021\":].Close.values.reshape(-1,1)\n",
        "\n",
        "  sc = MinMaxScaler(feature_range=(0,1))\n",
        "  train_df = sc.fit_transform(train_df)\n",
        "\n",
        "\n",
        "  X_train = []\n",
        "  y_train = []\n",
        "  for i in range(X_steps, len(train_df) - y_steps + 1):\n",
        "    X_train.append(train_df[i-X_steps:i,0])\n",
        "    y_train.append(train_df[i:i+y_steps,0])\n",
        "  X_train = np.array(X_train)\n",
        "  y_train = np.array(y_train)\n",
        "\n",
        "  X_train = X_train.reshape(X_train.shape[0],X_train.shape[1],1)\n",
        "\n",
        "  X = df.Close.values\n",
        "  X = X[len(X)-len(test_df)-X_steps:]\n",
        "  X = X.reshape(-1,1)\n",
        "  X = sc.transform(X)\n",
        "\n",
        "  X_test = []\n",
        "  y_test = []\n",
        "  for i in range(X_steps, len(test_df) - y_steps + X_steps + 1):\n",
        "    X_test.append(X[i-X_steps:i,0])\n",
        "    y_test.append(X[i:i+y_steps,0])\n",
        "  X_test = np.array(X_test)\n",
        "  y_test = np.array(y_test)\n",
        "\n",
        "  X_test = X_test.reshape(X_test.shape[0],X_test.shape[1],1)\n",
        "\n",
        "  return X_train,y_train,X_test,y_test,sc\n",
        "\n",
        "\n",
        "\n",
        "\n"
      ],
      "metadata": {
        "id": "OMUqVAJNzKan"
      },
      "execution_count": 15,
      "outputs": []
    },
    {
      "cell_type": "code",
      "source": [
        "X_train,y_train,X_test,y_test,sc = ts_data(df,6,2)\n",
        "\n"
      ],
      "metadata": {
        "id": "EWpFdM7dD9sC"
      },
      "execution_count": 16,
      "outputs": []
    },
    {
      "cell_type": "code",
      "source": [
        "X_train.shape\n",
        "\n"
      ],
      "metadata": {
        "colab": {
          "base_uri": "https://localhost:8080/"
        },
        "id": "hoXI3KnyEK-U",
        "outputId": "c65433ef-bdbb-42e8-e420-70480b266c7a"
      },
      "execution_count": 17,
      "outputs": [
        {
          "output_type": "execute_result",
          "data": {
            "text/plain": [
              "(2258, 6, 1)"
            ]
          },
          "metadata": {},
          "execution_count": 17
        }
      ]
    },
    {
      "cell_type": "code",
      "source": [
        "y_train.shape\n",
        "\n",
        "\n"
      ],
      "metadata": {
        "colab": {
          "base_uri": "https://localhost:8080/"
        },
        "id": "gBj_rGVzENQS",
        "outputId": "5afd18ff-a4b3-4490-ed54-f9a0d9527494"
      },
      "execution_count": 18,
      "outputs": [
        {
          "output_type": "execute_result",
          "data": {
            "text/plain": [
              "(2258, 2)"
            ]
          },
          "metadata": {},
          "execution_count": 18
        }
      ]
    },
    {
      "cell_type": "code",
      "source": [
        "X_test.shape"
      ],
      "metadata": {
        "colab": {
          "base_uri": "https://localhost:8080/"
        },
        "id": "Bx0nAsjYEYqC",
        "outputId": "24eca1b4-1290-4084-af4b-7ed6403a741a"
      },
      "execution_count": 19,
      "outputs": [
        {
          "output_type": "execute_result",
          "data": {
            "text/plain": [
              "(250, 6, 1)"
            ]
          },
          "metadata": {},
          "execution_count": 19
        }
      ]
    },
    {
      "cell_type": "code",
      "source": [
        "y_test.shape\n",
        "\n"
      ],
      "metadata": {
        "colab": {
          "base_uri": "https://localhost:8080/"
        },
        "id": "PNaAR9rhEeWq",
        "outputId": "b159c83c-3631-488c-c102-705d9f1eb2e4"
      },
      "execution_count": 20,
      "outputs": [
        {
          "output_type": "execute_result",
          "data": {
            "text/plain": [
              "(250, 2)"
            ]
          },
          "metadata": {},
          "execution_count": 20
        }
      ]
    },
    {
      "cell_type": "markdown",
      "source": [
        "# Simple RNN-Model"
      ],
      "metadata": {
        "id": "4fam-glvE2dh"
      }
    },
    {
      "cell_type": "code",
      "source": [
        "from keras.models import Sequential\n",
        "from keras.layers import Dense, SimpleRNN"
      ],
      "metadata": {
        "id": "w1Lag2QKE8Kh"
      },
      "execution_count": null,
      "outputs": []
    },
    {
      "cell_type": "code",
      "source": [
        "simple_rnn_model = Sequential([\n",
        "                               SimpleRNN(50, return_sequences=True),\n",
        "                               SimpleRNN(50),\n",
        "                               Dense(2)\n",
        "                              ])"
      ],
      "metadata": {
        "id": "rJK3NeGQ-G1_"
      },
      "execution_count": null,
      "outputs": []
    },
    {
      "cell_type": "code",
      "source": [
        "simple_rnn_model.compile(optimizer=\"adam\",loss=\"mean_squared_error\")"
      ],
      "metadata": {
        "id": "j1M1S3i2HyLx"
      },
      "execution_count": null,
      "outputs": []
    },
    {
      "cell_type": "code",
      "source": [
        "simple_rnn_model.fit(X_train,y_train,epochs=100,validation_split=0.15)\n"
      ],
      "metadata": {
        "colab": {
          "base_uri": "https://localhost:8080/"
        },
        "id": "W_1wDscZIHJp",
        "outputId": "abc1379c-8f0f-4243-c7e5-4026da167efe"
      },
      "execution_count": null,
      "outputs": [
        {
          "output_type": "stream",
          "name": "stdout",
          "text": [
            "Epoch 1/100\n",
            "60/60 [==============================] - 3s 12ms/step - loss: 0.0015 - val_loss: 0.0188\n",
            "Epoch 2/100\n",
            "60/60 [==============================] - 1s 15ms/step - loss: 1.3176e-04 - val_loss: 0.0085\n",
            "Epoch 3/100\n",
            "60/60 [==============================] - 0s 8ms/step - loss: 1.0028e-04 - val_loss: 0.0066\n",
            "Epoch 4/100\n",
            "60/60 [==============================] - 0s 8ms/step - loss: 7.7657e-05 - val_loss: 0.0043\n",
            "Epoch 5/100\n",
            "60/60 [==============================] - 0s 8ms/step - loss: 7.1361e-05 - val_loss: 0.0043\n",
            "Epoch 6/100\n",
            "60/60 [==============================] - 1s 8ms/step - loss: 6.6313e-05 - val_loss: 0.0034\n",
            "Epoch 7/100\n",
            "60/60 [==============================] - 1s 8ms/step - loss: 7.6990e-05 - val_loss: 0.0028\n",
            "Epoch 8/100\n",
            "60/60 [==============================] - 0s 7ms/step - loss: 1.4791e-04 - val_loss: 0.0028\n",
            "Epoch 9/100\n",
            "60/60 [==============================] - 0s 7ms/step - loss: 5.8585e-05 - val_loss: 0.0032\n",
            "Epoch 10/100\n",
            "60/60 [==============================] - 0s 7ms/step - loss: 5.6846e-05 - val_loss: 0.0020\n",
            "Epoch 11/100\n",
            "60/60 [==============================] - 1s 9ms/step - loss: 6.0093e-05 - val_loss: 0.0023\n",
            "Epoch 12/100\n",
            "60/60 [==============================] - 1s 12ms/step - loss: 5.1354e-05 - val_loss: 0.0017\n",
            "Epoch 13/100\n",
            "60/60 [==============================] - 1s 13ms/step - loss: 8.7050e-05 - val_loss: 0.0034\n",
            "Epoch 14/100\n",
            "60/60 [==============================] - 1s 13ms/step - loss: 5.6531e-05 - val_loss: 0.0014\n",
            "Epoch 15/100\n",
            "60/60 [==============================] - 1s 10ms/step - loss: 4.5239e-05 - val_loss: 0.0027\n",
            "Epoch 16/100\n",
            "60/60 [==============================] - 0s 7ms/step - loss: 6.3300e-05 - val_loss: 0.0017\n",
            "Epoch 17/100\n",
            "60/60 [==============================] - 0s 6ms/step - loss: 5.2407e-05 - val_loss: 0.0028\n",
            "Epoch 18/100\n",
            "60/60 [==============================] - 0s 8ms/step - loss: 6.5841e-05 - val_loss: 0.0019\n",
            "Epoch 19/100\n",
            "60/60 [==============================] - 1s 15ms/step - loss: 6.1805e-05 - val_loss: 0.0020\n",
            "Epoch 20/100\n",
            "60/60 [==============================] - 1s 12ms/step - loss: 5.2227e-05 - val_loss: 0.0013\n",
            "Epoch 21/100\n",
            "60/60 [==============================] - 1s 11ms/step - loss: 5.8312e-05 - val_loss: 0.0018\n",
            "Epoch 22/100\n",
            "60/60 [==============================] - 1s 14ms/step - loss: 5.7264e-05 - val_loss: 8.8362e-04\n",
            "Epoch 23/100\n",
            "60/60 [==============================] - 1s 15ms/step - loss: 6.2858e-05 - val_loss: 0.0015\n",
            "Epoch 24/100\n",
            "60/60 [==============================] - 1s 13ms/step - loss: 5.1875e-05 - val_loss: 0.0020\n",
            "Epoch 25/100\n",
            "60/60 [==============================] - 1s 14ms/step - loss: 4.7739e-05 - val_loss: 0.0011\n",
            "Epoch 26/100\n",
            "60/60 [==============================] - 1s 14ms/step - loss: 6.1073e-05 - val_loss: 0.0014\n",
            "Epoch 27/100\n",
            "60/60 [==============================] - 1s 12ms/step - loss: 5.6312e-05 - val_loss: 0.0015\n",
            "Epoch 28/100\n",
            "60/60 [==============================] - 1s 15ms/step - loss: 5.1285e-05 - val_loss: 0.0010\n",
            "Epoch 29/100\n",
            "60/60 [==============================] - 2s 29ms/step - loss: 4.4188e-05 - val_loss: 7.4513e-04\n",
            "Epoch 30/100\n",
            "60/60 [==============================] - 2s 25ms/step - loss: 4.9806e-05 - val_loss: 0.0011\n",
            "Epoch 31/100\n",
            "60/60 [==============================] - 1s 15ms/step - loss: 6.9453e-05 - val_loss: 9.7409e-04\n",
            "Epoch 32/100\n",
            "60/60 [==============================] - 1s 18ms/step - loss: 4.5732e-05 - val_loss: 9.0360e-04\n",
            "Epoch 33/100\n",
            "60/60 [==============================] - 1s 9ms/step - loss: 4.4103e-05 - val_loss: 8.3753e-04\n",
            "Epoch 34/100\n",
            "60/60 [==============================] - 1s 11ms/step - loss: 4.6644e-05 - val_loss: 6.4902e-04\n",
            "Epoch 35/100\n",
            "60/60 [==============================] - 1s 15ms/step - loss: 4.7473e-05 - val_loss: 0.0013\n",
            "Epoch 36/100\n",
            "60/60 [==============================] - 1s 11ms/step - loss: 4.2324e-05 - val_loss: 0.0011\n",
            "Epoch 37/100\n",
            "60/60 [==============================] - 1s 10ms/step - loss: 4.4180e-05 - val_loss: 0.0022\n",
            "Epoch 38/100\n",
            "60/60 [==============================] - 1s 14ms/step - loss: 5.0455e-05 - val_loss: 0.0011\n",
            "Epoch 39/100\n",
            "60/60 [==============================] - 1s 12ms/step - loss: 4.6534e-05 - val_loss: 6.1179e-04\n",
            "Epoch 40/100\n",
            "60/60 [==============================] - 1s 14ms/step - loss: 3.9660e-05 - val_loss: 0.0012\n",
            "Epoch 41/100\n",
            "60/60 [==============================] - 2s 27ms/step - loss: 5.3138e-05 - val_loss: 8.6124e-04\n",
            "Epoch 42/100\n",
            "60/60 [==============================] - 2s 31ms/step - loss: 4.1306e-05 - val_loss: 7.3033e-04\n",
            "Epoch 43/100\n",
            "60/60 [==============================] - 1s 21ms/step - loss: 4.2852e-05 - val_loss: 6.7955e-04\n",
            "Epoch 44/100\n",
            "60/60 [==============================] - 1s 20ms/step - loss: 5.0287e-05 - val_loss: 0.0012\n",
            "Epoch 45/100\n",
            "60/60 [==============================] - 1s 20ms/step - loss: 3.9425e-05 - val_loss: 6.6721e-04\n",
            "Epoch 46/100\n",
            "60/60 [==============================] - 1s 14ms/step - loss: 4.4680e-05 - val_loss: 9.8815e-04\n",
            "Epoch 47/100\n",
            "60/60 [==============================] - 0s 8ms/step - loss: 3.8570e-05 - val_loss: 8.0672e-04\n",
            "Epoch 48/100\n",
            "60/60 [==============================] - 0s 8ms/step - loss: 3.8560e-05 - val_loss: 7.5546e-04\n",
            "Epoch 49/100\n",
            "60/60 [==============================] - 1s 9ms/step - loss: 4.7109e-05 - val_loss: 6.3561e-04\n",
            "Epoch 50/100\n",
            "60/60 [==============================] - 0s 8ms/step - loss: 4.1166e-05 - val_loss: 7.3204e-04\n",
            "Epoch 51/100\n",
            "60/60 [==============================] - 0s 7ms/step - loss: 4.0594e-05 - val_loss: 7.8039e-04\n",
            "Epoch 52/100\n",
            "60/60 [==============================] - 0s 7ms/step - loss: 4.2215e-05 - val_loss: 0.0010\n",
            "Epoch 53/100\n",
            "60/60 [==============================] - 0s 8ms/step - loss: 4.8529e-05 - val_loss: 8.1064e-04\n",
            "Epoch 54/100\n",
            "60/60 [==============================] - 0s 7ms/step - loss: 4.2112e-05 - val_loss: 9.0760e-04\n",
            "Epoch 55/100\n",
            "60/60 [==============================] - 0s 8ms/step - loss: 4.1695e-05 - val_loss: 0.0013\n",
            "Epoch 56/100\n",
            "60/60 [==============================] - 0s 8ms/step - loss: 5.3713e-05 - val_loss: 9.7332e-04\n",
            "Epoch 57/100\n",
            "60/60 [==============================] - 0s 7ms/step - loss: 9.7338e-05 - val_loss: 0.0015\n",
            "Epoch 58/100\n",
            "60/60 [==============================] - 0s 6ms/step - loss: 3.9744e-05 - val_loss: 0.0018\n",
            "Epoch 59/100\n",
            "60/60 [==============================] - 0s 6ms/step - loss: 4.2873e-05 - val_loss: 8.3049e-04\n",
            "Epoch 60/100\n",
            "60/60 [==============================] - 0s 7ms/step - loss: 4.0302e-05 - val_loss: 0.0014\n",
            "Epoch 61/100\n",
            "60/60 [==============================] - 0s 6ms/step - loss: 4.4248e-05 - val_loss: 8.4344e-04\n",
            "Epoch 62/100\n",
            "60/60 [==============================] - 0s 7ms/step - loss: 3.7413e-05 - val_loss: 6.5183e-04\n",
            "Epoch 63/100\n",
            "60/60 [==============================] - 0s 7ms/step - loss: 4.2941e-05 - val_loss: 7.6368e-04\n",
            "Epoch 64/100\n",
            "60/60 [==============================] - 0s 8ms/step - loss: 3.6509e-05 - val_loss: 8.4233e-04\n",
            "Epoch 65/100\n",
            "60/60 [==============================] - 0s 7ms/step - loss: 4.6121e-05 - val_loss: 6.9962e-04\n",
            "Epoch 66/100\n",
            "60/60 [==============================] - 1s 11ms/step - loss: 4.1994e-05 - val_loss: 0.0015\n",
            "Epoch 67/100\n",
            "60/60 [==============================] - 1s 13ms/step - loss: 4.9713e-05 - val_loss: 8.6244e-04\n",
            "Epoch 68/100\n",
            "60/60 [==============================] - 1s 11ms/step - loss: 6.0537e-05 - val_loss: 7.4500e-04\n",
            "Epoch 69/100\n",
            "60/60 [==============================] - 1s 11ms/step - loss: 4.0915e-05 - val_loss: 8.0585e-04\n",
            "Epoch 70/100\n",
            "60/60 [==============================] - 0s 7ms/step - loss: 3.6935e-05 - val_loss: 5.2655e-04\n",
            "Epoch 71/100\n",
            "60/60 [==============================] - 0s 7ms/step - loss: 3.8865e-05 - val_loss: 6.5396e-04\n",
            "Epoch 72/100\n",
            "60/60 [==============================] - 0s 7ms/step - loss: 4.0803e-05 - val_loss: 5.5300e-04\n",
            "Epoch 73/100\n",
            "60/60 [==============================] - 0s 6ms/step - loss: 3.8823e-05 - val_loss: 6.1980e-04\n",
            "Epoch 74/100\n",
            "60/60 [==============================] - 0s 8ms/step - loss: 4.6038e-05 - val_loss: 9.1153e-04\n",
            "Epoch 75/100\n",
            "60/60 [==============================] - 0s 8ms/step - loss: 4.6242e-05 - val_loss: 0.0020\n",
            "Epoch 76/100\n",
            "60/60 [==============================] - 1s 8ms/step - loss: 4.8930e-05 - val_loss: 8.7871e-04\n",
            "Epoch 77/100\n",
            "60/60 [==============================] - 0s 8ms/step - loss: 4.0648e-05 - val_loss: 6.0380e-04\n",
            "Epoch 78/100\n",
            "60/60 [==============================] - 0s 7ms/step - loss: 4.2977e-05 - val_loss: 8.2210e-04\n",
            "Epoch 79/100\n",
            "60/60 [==============================] - 0s 7ms/step - loss: 3.8579e-05 - val_loss: 0.0012\n",
            "Epoch 80/100\n",
            "60/60 [==============================] - 0s 7ms/step - loss: 4.1968e-05 - val_loss: 7.7787e-04\n",
            "Epoch 81/100\n",
            "60/60 [==============================] - 0s 7ms/step - loss: 4.8560e-05 - val_loss: 5.4425e-04\n",
            "Epoch 82/100\n",
            "60/60 [==============================] - 0s 6ms/step - loss: 4.4149e-05 - val_loss: 0.0014\n",
            "Epoch 83/100\n",
            "60/60 [==============================] - 0s 7ms/step - loss: 4.3475e-05 - val_loss: 0.0011\n",
            "Epoch 84/100\n",
            "60/60 [==============================] - 0s 8ms/step - loss: 4.1299e-05 - val_loss: 8.1848e-04\n",
            "Epoch 85/100\n",
            "60/60 [==============================] - 0s 6ms/step - loss: 3.9445e-05 - val_loss: 9.4543e-04\n",
            "Epoch 86/100\n",
            "60/60 [==============================] - 0s 6ms/step - loss: 3.7554e-05 - val_loss: 6.6058e-04\n",
            "Epoch 87/100\n",
            "60/60 [==============================] - 0s 6ms/step - loss: 3.7718e-05 - val_loss: 0.0011\n",
            "Epoch 88/100\n",
            "60/60 [==============================] - 0s 8ms/step - loss: 4.4116e-05 - val_loss: 0.0010\n",
            "Epoch 89/100\n",
            "60/60 [==============================] - 0s 7ms/step - loss: 4.1182e-05 - val_loss: 6.1414e-04\n",
            "Epoch 90/100\n",
            "60/60 [==============================] - 0s 8ms/step - loss: 3.9558e-05 - val_loss: 7.8025e-04\n",
            "Epoch 91/100\n",
            "60/60 [==============================] - 0s 8ms/step - loss: 4.9243e-05 - val_loss: 7.7978e-04\n",
            "Epoch 92/100\n",
            "60/60 [==============================] - 1s 8ms/step - loss: 4.3875e-05 - val_loss: 7.1431e-04\n",
            "Epoch 93/100\n",
            "60/60 [==============================] - 1s 10ms/step - loss: 3.9952e-05 - val_loss: 5.2500e-04\n",
            "Epoch 94/100\n",
            "60/60 [==============================] - 1s 12ms/step - loss: 3.7991e-05 - val_loss: 0.0010\n",
            "Epoch 95/100\n",
            "60/60 [==============================] - 1s 12ms/step - loss: 3.8121e-05 - val_loss: 9.7519e-04\n",
            "Epoch 96/100\n",
            "60/60 [==============================] - 1s 12ms/step - loss: 3.8228e-05 - val_loss: 7.7271e-04\n",
            "Epoch 97/100\n",
            "60/60 [==============================] - 0s 7ms/step - loss: 3.7599e-05 - val_loss: 5.4166e-04\n",
            "Epoch 98/100\n",
            "60/60 [==============================] - 0s 8ms/step - loss: 4.4935e-05 - val_loss: 8.1383e-04\n",
            "Epoch 99/100\n",
            "60/60 [==============================] - 0s 7ms/step - loss: 4.0409e-05 - val_loss: 8.6285e-04\n",
            "Epoch 100/100\n",
            "60/60 [==============================] - 0s 7ms/step - loss: 4.8296e-05 - val_loss: 6.0677e-04\n"
          ]
        },
        {
          "output_type": "execute_result",
          "data": {
            "text/plain": [
              "<keras.src.callbacks.History at 0x7b0e70e04760>"
            ]
          },
          "metadata": {},
          "execution_count": 214
        }
      ]
    },
    {
      "cell_type": "code",
      "source": [
        "simple_rnn_pred = simple_rnn_model.predict(X_test)\n",
        "simple_rnn_pred.shape\n"
      ],
      "metadata": {
        "colab": {
          "base_uri": "https://localhost:8080/"
        },
        "id": "6kYTb71Ga2Ks",
        "outputId": "4368a43e-8e67-4e6d-81c2-cf230e205dce"
      },
      "execution_count": null,
      "outputs": [
        {
          "output_type": "stream",
          "name": "stdout",
          "text": [
            "8/8 [==============================] - 0s 4ms/step\n"
          ]
        },
        {
          "output_type": "execute_result",
          "data": {
            "text/plain": [
              "(250, 2)"
            ]
          },
          "metadata": {},
          "execution_count": 215
        }
      ]
    },
    {
      "cell_type": "code",
      "source": [
        "def prediction_plot(predictions):\n",
        "  fig , ax = plt.subplots(figsize=(10,5))\n",
        "  ax.plot(df[\"2021\":].index[:len(y_test)],\n",
        "          sc.inverse_transform(y_test[:,0].reshape(-1,1)),label = \"Real\")\n",
        "  ax.plot(df[\"2021\":].index[:len(y_test)],\n",
        "          sc.inverse_transform(predictions[:,0].reshape(-1,1)),label = \"Prediction\")"
      ],
      "metadata": {
        "id": "ivKKIXdwChIn"
      },
      "execution_count": null,
      "outputs": []
    },
    {
      "cell_type": "code",
      "source": [
        "prediction_plot(simple_rnn_pred)\n",
        "\n"
      ],
      "metadata": {
        "colab": {
          "base_uri": "https://localhost:8080/",
          "height": 445
        },
        "id": "RJtz2n--bfZL",
        "outputId": "548f6892-2ed0-40dc-e7fe-e27819a8f1a9"
      },
      "execution_count": null,
      "outputs": [
        {
          "output_type": "display_data",
          "data": {
            "text/plain": [
              "<Figure size 1000x500 with 1 Axes>"
            ],
            "image/png": "[encoded data removed]"
          },
          "metadata": {}
        }
      ]
    },
    {
      "cell_type": "markdown",
      "source": [
        "# LSTM"
      ],
      "metadata": {
        "id": "PurvNqRzQBRy"
      }
    },
    {
      "cell_type": "code",
      "source": [
        "from keras.layers import LSTM"
      ],
      "metadata": {
        "id": "rlsyHtadQRK6"
      },
      "execution_count": null,
      "outputs": []
    },
    {
      "cell_type": "code",
      "source": [
        "lstm = Sequential([\n",
        "                               LSTM(50, return_sequences=True),\n",
        "                               LSTM(50),\n",
        "                               Dense(2)\n",
        "                              ])"
      ],
      "metadata": {
        "id": "1c9V__iSQgYi"
      },
      "execution_count": null,
      "outputs": []
    },
    {
      "cell_type": "code",
      "source": [
        "lstm.compile(optimizer=\"adam\",loss=\"mean_squared_error\")"
      ],
      "metadata": {
        "id": "536LYnBGQD5X"
      },
      "execution_count": null,
      "outputs": []
    },
    {
      "cell_type": "code",
      "source": [
        "lstm.fit(X_train,y_train,epochs=100,validation_split=0.15)"
      ],
      "metadata": {
        "colab": {
          "base_uri": "https://localhost:8080/"
        },
        "id": "XkZWvlYYRgeq",
        "outputId": "52f5a825-43c9-4390-9a6f-f5acf3832096"
      },
      "execution_count": null,
      "outputs": [
        {
          "output_type": "stream",
          "name": "stdout",
          "text": [
            "Epoch 1/100\n",
            "60/60 [==============================] - 7s 28ms/step - loss: 0.0075 - val_loss: 0.0153\n",
            "Epoch 2/100\n",
            "60/60 [==============================] - 1s 13ms/step - loss: 1.2380e-04 - val_loss: 0.0021\n",
            "Epoch 3/100\n",
            "60/60 [==============================] - 1s 12ms/step - loss: 8.4762e-05 - val_loss: 0.0016\n",
            "Epoch 4/100\n",
            "60/60 [==============================] - 1s 14ms/step - loss: 7.7626e-05 - val_loss: 9.9257e-04\n",
            "Epoch 5/100\n",
            "60/60 [==============================] - 1s 17ms/step - loss: 7.4555e-05 - val_loss: 0.0011\n",
            "Epoch 6/100\n",
            "60/60 [==============================] - 1s 19ms/step - loss: 7.2000e-05 - val_loss: 0.0018\n",
            "Epoch 7/100\n",
            "60/60 [==============================] - 1s 18ms/step - loss: 6.7943e-05 - val_loss: 0.0014\n",
            "Epoch 8/100\n",
            "60/60 [==============================] - 1s 13ms/step - loss: 6.5741e-05 - val_loss: 0.0020\n",
            "Epoch 9/100\n",
            "60/60 [==============================] - 1s 13ms/step - loss: 6.6282e-05 - val_loss: 0.0018\n",
            "Epoch 10/100\n",
            "60/60 [==============================] - 1s 13ms/step - loss: 6.8682e-05 - val_loss: 0.0024\n",
            "Epoch 11/100\n",
            "60/60 [==============================] - 1s 12ms/step - loss: 8.4583e-05 - val_loss: 0.0014\n",
            "Epoch 12/100\n",
            "60/60 [==============================] - 1s 12ms/step - loss: 7.2948e-05 - val_loss: 0.0015\n",
            "Epoch 13/100\n",
            "60/60 [==============================] - 1s 12ms/step - loss: 7.0670e-05 - val_loss: 0.0015\n",
            "Epoch 14/100\n",
            "60/60 [==============================] - 1s 12ms/step - loss: 6.8042e-05 - val_loss: 0.0020\n",
            "Epoch 15/100\n",
            "60/60 [==============================] - 1s 12ms/step - loss: 7.7300e-05 - val_loss: 0.0017\n",
            "Epoch 16/100\n",
            "60/60 [==============================] - 1s 11ms/step - loss: 7.2260e-05 - val_loss: 0.0014\n",
            "Epoch 17/100\n",
            "60/60 [==============================] - 1s 12ms/step - loss: 6.8477e-05 - val_loss: 0.0017\n",
            "Epoch 18/100\n",
            "60/60 [==============================] - 1s 11ms/step - loss: 7.4807e-05 - val_loss: 0.0018\n",
            "Epoch 19/100\n",
            "60/60 [==============================] - 1s 14ms/step - loss: 7.3012e-05 - val_loss: 0.0018\n",
            "Epoch 20/100\n",
            "60/60 [==============================] - 1s 13ms/step - loss: 6.8102e-05 - val_loss: 0.0019\n",
            "Epoch 21/100\n",
            "60/60 [==============================] - 1s 15ms/step - loss: 7.2849e-05 - val_loss: 0.0013\n",
            "Epoch 22/100\n",
            "60/60 [==============================] - 1s 22ms/step - loss: 6.5151e-05 - val_loss: 0.0016\n",
            "Epoch 23/100\n",
            "60/60 [==============================] - 1s 18ms/step - loss: 7.2236e-05 - val_loss: 0.0022\n",
            "Epoch 24/100\n",
            "60/60 [==============================] - 1s 13ms/step - loss: 7.4238e-05 - val_loss: 0.0016\n",
            "Epoch 25/100\n",
            "60/60 [==============================] - 1s 13ms/step - loss: 6.7457e-05 - val_loss: 0.0014\n",
            "Epoch 26/100\n",
            "60/60 [==============================] - 1s 11ms/step - loss: 7.2840e-05 - val_loss: 0.0016\n",
            "Epoch 27/100\n",
            "60/60 [==============================] - 1s 12ms/step - loss: 7.1475e-05 - val_loss: 0.0021\n",
            "Epoch 28/100\n",
            "60/60 [==============================] - 1s 13ms/step - loss: 6.8553e-05 - val_loss: 0.0012\n",
            "Epoch 29/100\n",
            "60/60 [==============================] - 1s 19ms/step - loss: 6.8201e-05 - val_loss: 0.0018\n",
            "Epoch 30/100\n",
            "60/60 [==============================] - 1s 20ms/step - loss: 6.5790e-05 - val_loss: 0.0012\n",
            "Epoch 31/100\n",
            "60/60 [==============================] - 1s 18ms/step - loss: 7.4290e-05 - val_loss: 0.0019\n",
            "Epoch 32/100\n",
            "60/60 [==============================] - 1s 12ms/step - loss: 6.4931e-05 - val_loss: 0.0015\n",
            "Epoch 33/100\n",
            "60/60 [==============================] - 1s 18ms/step - loss: 6.7462e-05 - val_loss: 0.0018\n",
            "Epoch 34/100\n",
            "60/60 [==============================] - 1s 19ms/step - loss: 8.2541e-05 - val_loss: 0.0013\n",
            "Epoch 35/100\n",
            "60/60 [==============================] - 2s 25ms/step - loss: 6.8659e-05 - val_loss: 0.0013\n",
            "Epoch 36/100\n",
            "60/60 [==============================] - 1s 20ms/step - loss: 6.4596e-05 - val_loss: 0.0010\n",
            "Epoch 37/100\n",
            "60/60 [==============================] - 1s 16ms/step - loss: 7.1472e-05 - val_loss: 0.0015\n",
            "Epoch 38/100\n",
            "60/60 [==============================] - 1s 13ms/step - loss: 7.0967e-05 - val_loss: 0.0018\n",
            "Epoch 39/100\n",
            "60/60 [==============================] - 1s 14ms/step - loss: 6.9654e-05 - val_loss: 0.0013\n",
            "Epoch 40/100\n",
            "60/60 [==============================] - 1s 14ms/step - loss: 7.1908e-05 - val_loss: 9.8128e-04\n",
            "Epoch 41/100\n",
            "60/60 [==============================] - 1s 13ms/step - loss: 6.8596e-05 - val_loss: 0.0013\n",
            "Epoch 42/100\n",
            "60/60 [==============================] - 1s 12ms/step - loss: 6.5219e-05 - val_loss: 0.0010\n",
            "Epoch 43/100\n",
            "60/60 [==============================] - 1s 12ms/step - loss: 6.7134e-05 - val_loss: 0.0013\n",
            "Epoch 44/100\n",
            "60/60 [==============================] - 1s 12ms/step - loss: 6.4880e-05 - val_loss: 0.0016\n",
            "Epoch 45/100\n",
            "60/60 [==============================] - 1s 13ms/step - loss: 7.1653e-05 - val_loss: 0.0019\n",
            "Epoch 46/100\n",
            "60/60 [==============================] - 1s 12ms/step - loss: 7.7083e-05 - val_loss: 0.0013\n",
            "Epoch 47/100\n",
            "60/60 [==============================] - 1s 14ms/step - loss: 6.2582e-05 - val_loss: 0.0013\n",
            "Epoch 48/100\n",
            "60/60 [==============================] - 1s 14ms/step - loss: 6.3747e-05 - val_loss: 0.0017\n",
            "Epoch 49/100\n",
            "60/60 [==============================] - 1s 13ms/step - loss: 6.8470e-05 - val_loss: 9.6664e-04\n",
            "Epoch 50/100\n",
            "60/60 [==============================] - 1s 17ms/step - loss: 1.0832e-04 - val_loss: 0.0038\n",
            "Epoch 51/100\n",
            "60/60 [==============================] - 1s 18ms/step - loss: 9.7219e-05 - val_loss: 0.0018\n",
            "Epoch 52/100\n",
            "60/60 [==============================] - 1s 17ms/step - loss: 6.4185e-05 - val_loss: 0.0010\n",
            "Epoch 53/100\n",
            "60/60 [==============================] - 1s 12ms/step - loss: 6.5673e-05 - val_loss: 0.0015\n",
            "Epoch 54/100\n",
            "60/60 [==============================] - 1s 12ms/step - loss: 6.2084e-05 - val_loss: 0.0016\n",
            "Epoch 55/100\n",
            "60/60 [==============================] - 1s 12ms/step - loss: 6.0952e-05 - val_loss: 0.0016\n",
            "Epoch 56/100\n",
            "60/60 [==============================] - 1s 11ms/step - loss: 6.1393e-05 - val_loss: 9.5928e-04\n",
            "Epoch 57/100\n",
            "60/60 [==============================] - 1s 12ms/step - loss: 6.8633e-05 - val_loss: 0.0012\n",
            "Epoch 58/100\n",
            "60/60 [==============================] - 1s 12ms/step - loss: 6.7496e-05 - val_loss: 9.5841e-04\n",
            "Epoch 59/100\n",
            "60/60 [==============================] - 1s 12ms/step - loss: 6.6151e-05 - val_loss: 0.0011\n",
            "Epoch 60/100\n",
            "60/60 [==============================] - 1s 12ms/step - loss: 6.3285e-05 - val_loss: 0.0016\n",
            "Epoch 61/100\n",
            "60/60 [==============================] - 1s 12ms/step - loss: 6.6665e-05 - val_loss: 0.0014\n",
            "Epoch 62/100\n",
            "60/60 [==============================] - 1s 13ms/step - loss: 5.9405e-05 - val_loss: 9.7243e-04\n",
            "Epoch 63/100\n",
            "60/60 [==============================] - 1s 13ms/step - loss: 6.9756e-05 - val_loss: 0.0012\n",
            "Epoch 64/100\n",
            "60/60 [==============================] - 1s 11ms/step - loss: 6.1893e-05 - val_loss: 0.0016\n",
            "Epoch 65/100\n",
            "60/60 [==============================] - 1s 12ms/step - loss: 6.8593e-05 - val_loss: 0.0012\n",
            "Epoch 66/100\n",
            "60/60 [==============================] - 1s 18ms/step - loss: 5.7144e-05 - val_loss: 9.5089e-04\n",
            "Epoch 67/100\n",
            "60/60 [==============================] - 1s 18ms/step - loss: 6.1309e-05 - val_loss: 9.1479e-04\n",
            "Epoch 68/100\n",
            "60/60 [==============================] - 1s 22ms/step - loss: 6.1979e-05 - val_loss: 0.0013\n",
            "Epoch 69/100\n",
            "60/60 [==============================] - 1s 14ms/step - loss: 5.8450e-05 - val_loss: 7.7635e-04\n",
            "Epoch 70/100\n",
            "60/60 [==============================] - 1s 14ms/step - loss: 6.0680e-05 - val_loss: 0.0010\n",
            "Epoch 71/100\n",
            "60/60 [==============================] - 1s 12ms/step - loss: 5.9883e-05 - val_loss: 0.0012\n",
            "Epoch 72/100\n",
            "60/60 [==============================] - 1s 12ms/step - loss: 6.2568e-05 - val_loss: 0.0011\n",
            "Epoch 73/100\n",
            "60/60 [==============================] - 1s 12ms/step - loss: 6.2431e-05 - val_loss: 8.0958e-04\n",
            "Epoch 74/100\n",
            "60/60 [==============================] - 1s 12ms/step - loss: 5.6318e-05 - val_loss: 9.2119e-04\n",
            "Epoch 75/100\n",
            "60/60 [==============================] - 1s 14ms/step - loss: 6.4130e-05 - val_loss: 0.0012\n",
            "Epoch 76/100\n",
            "60/60 [==============================] - 1s 14ms/step - loss: 5.9182e-05 - val_loss: 0.0012\n",
            "Epoch 77/100\n",
            "60/60 [==============================] - 1s 13ms/step - loss: 5.8035e-05 - val_loss: 0.0021\n",
            "Epoch 78/100\n",
            "60/60 [==============================] - 1s 12ms/step - loss: 7.8931e-05 - val_loss: 0.0014\n",
            "Epoch 79/100\n",
            "60/60 [==============================] - 1s 13ms/step - loss: 6.8641e-05 - val_loss: 9.3307e-04\n",
            "Epoch 80/100\n",
            "60/60 [==============================] - 1s 14ms/step - loss: 5.5452e-05 - val_loss: 9.5527e-04\n",
            "Epoch 81/100\n",
            "60/60 [==============================] - 1s 15ms/step - loss: 5.9266e-05 - val_loss: 9.0289e-04\n",
            "Epoch 82/100\n",
            "60/60 [==============================] - 1s 19ms/step - loss: 6.0609e-05 - val_loss: 9.4415e-04\n",
            "Epoch 83/100\n",
            "60/60 [==============================] - 1s 22ms/step - loss: 5.6303e-05 - val_loss: 7.1591e-04\n",
            "Epoch 84/100\n",
            "60/60 [==============================] - 1s 14ms/step - loss: 5.7193e-05 - val_loss: 8.5924e-04\n",
            "Epoch 85/100\n",
            "60/60 [==============================] - 1s 13ms/step - loss: 5.1003e-05 - val_loss: 0.0011\n",
            "Epoch 86/100\n",
            "60/60 [==============================] - 1s 12ms/step - loss: 5.1913e-05 - val_loss: 9.6848e-04\n",
            "Epoch 87/100\n",
            "60/60 [==============================] - 1s 14ms/step - loss: 5.4316e-05 - val_loss: 8.5382e-04\n",
            "Epoch 88/100\n",
            "60/60 [==============================] - 1s 12ms/step - loss: 5.2122e-05 - val_loss: 0.0016\n",
            "Epoch 89/100\n",
            "60/60 [==============================] - 1s 12ms/step - loss: 6.2261e-05 - val_loss: 8.1933e-04\n",
            "Epoch 90/100\n",
            "60/60 [==============================] - 1s 13ms/step - loss: 5.3542e-05 - val_loss: 8.6582e-04\n",
            "Epoch 91/100\n",
            "60/60 [==============================] - 1s 14ms/step - loss: 5.3834e-05 - val_loss: 6.2520e-04\n",
            "Epoch 92/100\n",
            "60/60 [==============================] - 1s 14ms/step - loss: 5.2782e-05 - val_loss: 7.9940e-04\n",
            "Epoch 93/100\n",
            "60/60 [==============================] - 1s 12ms/step - loss: 5.6424e-05 - val_loss: 0.0010\n",
            "Epoch 94/100\n",
            "60/60 [==============================] - 1s 12ms/step - loss: 5.1690e-05 - val_loss: 9.9969e-04\n",
            "Epoch 95/100\n",
            "60/60 [==============================] - 1s 12ms/step - loss: 5.0832e-05 - val_loss: 9.2776e-04\n",
            "Epoch 96/100\n",
            "60/60 [==============================] - 1s 14ms/step - loss: 5.3109e-05 - val_loss: 8.5870e-04\n",
            "Epoch 97/100\n",
            "60/60 [==============================] - 1s 20ms/step - loss: 5.6214e-05 - val_loss: 6.7645e-04\n",
            "Epoch 98/100\n",
            "60/60 [==============================] - 1s 20ms/step - loss: 5.1030e-05 - val_loss: 0.0013\n",
            "Epoch 99/100\n",
            "60/60 [==============================] - 1s 15ms/step - loss: 5.6560e-05 - val_loss: 6.0845e-04\n",
            "Epoch 100/100\n",
            "60/60 [==============================] - 1s 12ms/step - loss: 5.3423e-05 - val_loss: 6.5595e-04\n"
          ]
        },
        {
          "output_type": "execute_result",
          "data": {
            "text/plain": [
              "<keras.src.callbacks.History at 0x7b0e62f285b0>"
            ]
          },
          "metadata": {},
          "execution_count": 227
        }
      ]
    },
    {
      "cell_type": "code",
      "source": [
        "prediction_plot(lstm.predict(X_test))\n",
        "\n",
        "\n"
      ],
      "metadata": {
        "id": "6EwRJ3WrSP7h",
        "outputId": "9499c43a-f7bf-49d0-fde6-e2021aaad8d5",
        "colab": {
          "base_uri": "https://localhost:8080/",
          "height": 462
        }
      },
      "execution_count": null,
      "outputs": [
        {
          "output_type": "stream",
          "name": "stdout",
          "text": [
            "8/8 [==============================] - 2s 8ms/step\n"
          ]
        },
        {
          "output_type": "display_data",
          "data": {
            "text/plain": [
              "<Figure size 1000x500 with 1 Axes>"
            ],
            "image/png": "[encoded data removed]"
          },
          "metadata": {}
        }
      ]
    }
  ]
}